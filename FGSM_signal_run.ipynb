{
  "cells": [
    {
      "cell_type": "markdown",
      "metadata": {
        "id": "view-in-github",
        "colab_type": "text"
      },
      "source": [
        "<a href=\"https://colab.research.google.com/github/Neil2DP/Time-Series-Forecast/blob/master/FGSM_signal_run.ipynb\" target=\"_parent\"><img src=\"https://colab.research.google.com/assets/colab-badge.svg\" alt=\"Open In Colab\"/></a>"
      ]
    },
    {
      "cell_type": "code",
      "execution_count": null,
      "metadata": {
        "id": "bTaxT8Op0WP5"
      },
      "outputs": [],
      "source": [
        "# Import all the things we need ---\n",
        "#   by setting env variables before Keras import you can set up which backend and which GPU it uses\n",
        "%matplotlib inline\n",
        "import os,random\n",
        "os.environ[\"KERAS_BACKEND\"] = \"theano\"\n",
        "#os.environ[\"KERAS_BACKEND\"] = \"tensorflow\"\n",
        "os.environ[\"THEANO_FLAGS\"]  = \"device=gpu%d\"%(1)\n",
        "import numpy as np\n",
        "# import theano as th\n",
        "# import theano.tensor as T\n",
        "from keras.utils import np_utils\n",
        "import keras.models as models\n",
        "from keras.layers.core import Reshape,Dense,Dropout,Activation,Flatten\n",
        "from keras.layers.noise import GaussianNoise\n",
        "from keras.layers.convolutional import Convolution2D, MaxPooling2D, ZeroPadding2D\n",
        "from keras.regularizers import *\n",
        "# from keras.optimizers import adam\n",
        "import matplotlib.pyplot as plt\n",
        "import seaborn as sns\n",
        "import pickle, random, sys, keras"
      ]
    },
    {
      "cell_type": "markdown",
      "source": [
        "# 新段落"
      ],
      "metadata": {
        "id": "d4jb7GCNjfoe"
      }
    },
    {
      "cell_type": "code",
      "execution_count": null,
      "metadata": {
        "id": "P0rg5f7H0WSV"
      },
      "outputs": [],
      "source": [
        "# Load the dataset ...\n",
        "#  You will need to seperately download or generate this file\n",
        "Xd = pickle.load(open(\"/content/drive/MyDrive/Colab Notebooks/RML2016.10a_dict.pkl\",'rb'),encoding='latin')\n",
        "snrs,mods = map(lambda j: sorted(list(set(map(lambda x: x[j], Xd.keys())))), [1,0])\n",
        "X = []  \n",
        "lbl = []\n",
        "for mod in mods:\n",
        "    for snr in snrs:\n",
        "        X.append(Xd[(mod,snr)])\n",
        "        for i in range(Xd[(mod,snr)].shape[0]):  lbl.append((mod,snr))\n",
        "X = np.vstack(X)"
      ]
    },
    {
      "cell_type": "code",
      "execution_count": null,
      "metadata": {
        "id": "mzrWx9qV0bp-"
      },
      "outputs": [],
      "source": [
        "# Partition the data\n",
        "#  into training and test sets of the form we can train/test on \n",
        "#  while keeping SNR and Mod labels handy for each\n",
        "np.random.seed(2016)\n",
        "n_examples = X.shape[0]\n",
        "n_train = n_examples * 0.5\n",
        "train_idx = np.random.choice(range(0,n_examples), size=int(n_train), replace=False)\n",
        "test_idx = list(set(range(0,n_examples))-set(train_idx))\n",
        "X_train = X[train_idx]\n",
        "X_test =  X[test_idx]\n",
        "def to_onehot(yy):\n",
        "    yy1 = np.zeros([len(yy), max(yy)+1])\n",
        "    yy1[np.arange(len(yy)),yy] = 1\n",
        "    return yy1\n",
        "Y_train = to_onehot(list(map(lambda x: mods.index(lbl[x][0]), train_idx)))\n",
        "Y_test = to_onehot(list(map(lambda x: mods.index(lbl[x][0]), test_idx)))"
      ]
    },
    {
      "cell_type": "code",
      "execution_count": null,
      "metadata": {
        "colab": {
          "base_uri": "https://localhost:8080/"
        },
        "id": "C4kKkxSy0b0F",
        "outputId": "fe629dfe-859c-42a3-e105-d35f6c79416b"
      },
      "outputs": [
        {
          "output_type": "stream",
          "name": "stdout",
          "text": [
            "(110000, 2, 128) [2, 128]\n"
          ]
        }
      ],
      "source": [
        "in_shp = list(X_train.shape[1:])\n",
        "print(X_train.shape, in_shp)\n",
        "classes = mods"
      ]
    },
    {
      "cell_type": "code",
      "execution_count": null,
      "metadata": {
        "colab": {
          "base_uri": "https://localhost:8080/"
        },
        "id": "3xVx0lAp0b6x",
        "outputId": "54c704cf-043e-415f-84b8-9cc9fa77e98e"
      },
      "outputs": [
        {
          "output_type": "stream",
          "name": "stdout",
          "text": [
            "Model: \"sequential\"\n",
            "_________________________________________________________________\n",
            " Layer (type)                Output Shape              Param #   \n",
            "=================================================================\n",
            " reshape (Reshape)           (None, 1, 2, 128)         0         \n",
            "                                                                 \n",
            " zero_padding2d (ZeroPadding  (None, 1, 6, 128)        0         \n",
            " 2D)                                                             \n",
            "                                                                 \n",
            " conv1 (Conv2D)              (None, 1, 2, 64)          8256      \n",
            "                                                                 \n",
            " dropout (Dropout)           (None, 1, 2, 64)          0         \n",
            "                                                                 \n",
            " zero_padding2d_1 (ZeroPaddi  (None, 1, 6, 64)         0         \n",
            " ng2D)                                                           \n",
            "                                                                 \n",
            " conv2 (Conv2D)              (None, 1, 2, 16)          1040      \n",
            "                                                                 \n",
            " dropout_1 (Dropout)         (None, 1, 2, 16)          0         \n",
            "                                                                 \n",
            " flatten (Flatten)           (None, 32)                0         \n",
            "                                                                 \n",
            " dense1 (Dense)              (None, 128)               4224      \n",
            "                                                                 \n",
            " dropout_2 (Dropout)         (None, 128)               0         \n",
            "                                                                 \n",
            " dense2 (Dense)              (None, 11)                1419      \n",
            "                                                                 \n",
            " activation (Activation)     (None, 11)                0         \n",
            "                                                                 \n",
            " reshape_1 (Reshape)         (None, 11)                0         \n",
            "                                                                 \n",
            "=================================================================\n",
            "Total params: 14,939\n",
            "Trainable params: 14,939\n",
            "Non-trainable params: 0\n",
            "_________________________________________________________________\n"
          ]
        }
      ],
      "source": [
        "# Build VT-CNN2 Neural Net model using Keras primitives -- \n",
        "#  - Reshape [N,2,128] to [N,1,2,128] on input\n",
        "#  - Pass through 2 2DConv/ReLu layers\n",
        "#  - Pass through 2 Dense layers (ReLu and Softmax)\n",
        "#  - Perform categorical cross entropy optimization\n",
        "\n",
        "dr = 0.5 # dropout rate (%)\n",
        "model = models.Sequential()\n",
        "model.add(Reshape([1]+in_shp, input_shape=in_shp))\n",
        "model.add(ZeroPadding2D((0, 2)))\n",
        "model.add(Convolution2D(64, 1, 3, padding='valid', activation=\"relu\", name=\"conv1\"))#, init='glorot_uniform'))\n",
        "model.add(Dropout(dr))\n",
        "model.add(ZeroPadding2D((0, 2)))\n",
        "model.add(Convolution2D(16, 1, 3, padding=\"valid\", activation=\"relu\", name=\"conv2\"))#, init='glorot_uniform'))\n",
        "model.add(Dropout(dr))\n",
        "model.add(Flatten())\n",
        "model.add(Dense(128, activation='relu', name=\"dense1\"))#, init='he_normal'\n",
        "model.add(Dropout(dr))\n",
        "model.add(Dense( len(classes), name=\"dense2\" ))#, init='he_normal'\n",
        "model.add(Activation('softmax'))\n",
        "model.add(Reshape([len(classes)]))\n",
        "model.compile(loss='categorical_crossentropy', optimizer='adam')\n",
        "model_input_layer  = model.layers[0].input  #输入层的变量控制\n",
        "model_output_layer = model.layers[-1].output#输出层的变量控制\n",
        "model.summary()"
      ]
    },
    {
      "cell_type": "code",
      "execution_count": null,
      "metadata": {
        "colab": {
          "base_uri": "https://localhost:8080/"
        },
        "id": "5dz_yJwTyTnB",
        "outputId": "ae627d54-1fe9-4224-b523-08edd4f6e1c9"
      },
      "outputs": [
        {
          "output_type": "stream",
          "name": "stdout",
          "text": [
            "Epoch 1/200\n",
            "108/108 - 5s - loss: 2.3545 - val_loss: 2.2422 - 5s/epoch - 45ms/step\n",
            "Epoch 2/200\n",
            "108/108 - 3s - loss: 2.2521 - val_loss: 2.2301 - 3s/epoch - 23ms/step\n",
            "Epoch 3/200\n",
            "108/108 - 4s - loss: 2.2371 - val_loss: 2.2155 - 4s/epoch - 33ms/step\n",
            "Epoch 4/200\n",
            "108/108 - 2s - loss: 2.2181 - val_loss: 2.1881 - 2s/epoch - 22ms/step\n",
            "Epoch 5/200\n",
            "108/108 - 3s - loss: 2.1935 - val_loss: 2.1448 - 3s/epoch - 23ms/step\n",
            "Epoch 6/200\n",
            "108/108 - 3s - loss: 2.1588 - val_loss: 2.0883 - 3s/epoch - 25ms/step\n",
            "Epoch 7/200\n",
            "108/108 - 3s - loss: 2.1280 - val_loss: 2.0511 - 3s/epoch - 27ms/step\n",
            "Epoch 8/200\n",
            "108/108 - 3s - loss: 2.1068 - val_loss: 2.0326 - 3s/epoch - 28ms/step\n",
            "Epoch 9/200\n",
            "108/108 - 2s - loss: 2.0916 - val_loss: 2.0066 - 2s/epoch - 20ms/step\n",
            "Epoch 10/200\n",
            "108/108 - 2s - loss: 2.0772 - val_loss: 1.9945 - 2s/epoch - 14ms/step\n",
            "Epoch 11/200\n",
            "108/108 - 2s - loss: 2.0595 - val_loss: 1.9743 - 2s/epoch - 14ms/step\n",
            "Epoch 12/200\n",
            "108/108 - 2s - loss: 2.0496 - val_loss: 1.9668 - 2s/epoch - 14ms/step\n",
            "Epoch 13/200\n",
            "108/108 - 2s - loss: 2.0407 - val_loss: 1.9553 - 2s/epoch - 14ms/step\n",
            "Epoch 14/200\n",
            "108/108 - 2s - loss: 2.0311 - val_loss: 1.9475 - 2s/epoch - 19ms/step\n",
            "Epoch 15/200\n",
            "108/108 - 2s - loss: 2.0236 - val_loss: 1.9370 - 2s/epoch - 18ms/step\n",
            "Epoch 16/200\n",
            "108/108 - 2s - loss: 2.0145 - val_loss: 1.9375 - 2s/epoch - 14ms/step\n",
            "Epoch 17/200\n",
            "108/108 - 2s - loss: 2.0071 - val_loss: 1.9233 - 2s/epoch - 15ms/step\n",
            "Epoch 18/200\n",
            "108/108 - 2s - loss: 2.0033 - val_loss: 1.9203 - 2s/epoch - 14ms/step\n",
            "Epoch 19/200\n",
            "108/108 - 2s - loss: 1.9956 - val_loss: 1.9171 - 2s/epoch - 14ms/step\n",
            "Epoch 20/200\n",
            "108/108 - 2s - loss: 1.9926 - val_loss: 1.9149 - 2s/epoch - 17ms/step\n",
            "Epoch 21/200\n",
            "108/108 - 1s - loss: 1.9903 - val_loss: 1.9117 - 1s/epoch - 14ms/step\n",
            "Epoch 22/200\n",
            "108/108 - 2s - loss: 1.9866 - val_loss: 1.9100 - 2s/epoch - 21ms/step\n",
            "Epoch 23/200\n",
            "108/108 - 2s - loss: 1.9819 - val_loss: 1.9093 - 2s/epoch - 15ms/step\n",
            "Epoch 24/200\n",
            "108/108 - 2s - loss: 1.9818 - val_loss: 1.9069 - 2s/epoch - 14ms/step\n",
            "Epoch 25/200\n",
            "108/108 - 1s - loss: 1.9773 - val_loss: 1.9082 - 1s/epoch - 14ms/step\n",
            "Epoch 26/200\n",
            "108/108 - 1s - loss: 1.9730 - val_loss: 1.9034 - 1s/epoch - 14ms/step\n",
            "Epoch 27/200\n",
            "108/108 - 1s - loss: 1.9709 - val_loss: 1.8998 - 1s/epoch - 14ms/step\n",
            "Epoch 28/200\n",
            "108/108 - 1s - loss: 1.9709 - val_loss: 1.8994 - 1s/epoch - 14ms/step\n",
            "Epoch 29/200\n",
            "108/108 - 2s - loss: 1.9676 - val_loss: 1.9010 - 2s/epoch - 15ms/step\n",
            "Epoch 30/200\n",
            "108/108 - 2s - loss: 1.9653 - val_loss: 1.9003 - 2s/epoch - 20ms/step\n",
            "Epoch 31/200\n",
            "108/108 - 2s - loss: 1.9654 - val_loss: 1.9039 - 2s/epoch - 15ms/step\n",
            "Epoch 32/200\n",
            "108/108 - 2s - loss: 1.9641 - val_loss: 1.8996 - 2s/epoch - 14ms/step\n",
            "Epoch 33/200\n",
            "108/108 - 2s - loss: 1.9642 - val_loss: 1.8984 - 2s/epoch - 17ms/step\n",
            "Epoch 34/200\n",
            "108/108 - 2s - loss: 1.9637 - val_loss: 1.9004 - 2s/epoch - 14ms/step\n",
            "Epoch 35/200\n",
            "108/108 - 1s - loss: 1.9606 - val_loss: 1.9022 - 1s/epoch - 14ms/step\n",
            "Epoch 36/200\n",
            "108/108 - 2s - loss: 1.9597 - val_loss: 1.8967 - 2s/epoch - 17ms/step\n",
            "Epoch 37/200\n",
            "108/108 - 2s - loss: 1.9578 - val_loss: 1.9018 - 2s/epoch - 19ms/step\n",
            "Epoch 38/200\n",
            "108/108 - 2s - loss: 1.9574 - val_loss: 1.9027 - 2s/epoch - 17ms/step\n",
            "Epoch 39/200\n",
            "108/108 - 1s - loss: 1.9572 - val_loss: 1.8936 - 1s/epoch - 14ms/step\n",
            "Epoch 40/200\n",
            "108/108 - 2s - loss: 1.9547 - val_loss: 1.8964 - 2s/epoch - 14ms/step\n",
            "Epoch 41/200\n",
            "108/108 - 2s - loss: 1.9553 - val_loss: 1.8963 - 2s/epoch - 14ms/step\n",
            "Epoch 42/200\n",
            "108/108 - 2s - loss: 1.9539 - val_loss: 1.8963 - 2s/epoch - 14ms/step\n",
            "Epoch 43/200\n",
            "108/108 - 2s - loss: 1.9520 - val_loss: 1.8907 - 2s/epoch - 14ms/step\n",
            "Epoch 44/200\n",
            "108/108 - 2s - loss: 1.9520 - val_loss: 1.8967 - 2s/epoch - 14ms/step\n",
            "Epoch 45/200\n",
            "108/108 - 2s - loss: 1.9512 - val_loss: 1.8923 - 2s/epoch - 21ms/step\n",
            "Epoch 46/200\n",
            "108/108 - 2s - loss: 1.9533 - val_loss: 1.8927 - 2s/epoch - 16ms/step\n",
            "Epoch 47/200\n",
            "108/108 - 1s - loss: 1.9510 - val_loss: 1.8921 - 1s/epoch - 13ms/step\n",
            "Epoch 48/200\n",
            "108/108 - 2s - loss: 1.9490 - val_loss: 1.8937 - 2s/epoch - 14ms/step\n",
            "Epoch 49/200\n",
            "108/108 - 1s - loss: 1.9491 - val_loss: 1.8955 - 1s/epoch - 13ms/step\n",
            "Epoch 50/200\n",
            "108/108 - 2s - loss: 1.9496 - val_loss: 1.8909 - 2s/epoch - 17ms/step\n",
            "Epoch 51/200\n",
            "108/108 - 2s - loss: 1.9477 - val_loss: 1.8964 - 2s/epoch - 14ms/step\n",
            "Epoch 52/200\n",
            "108/108 - 2s - loss: 1.9466 - val_loss: 1.8967 - 2s/epoch - 16ms/step\n",
            "Epoch 53/200\n",
            "108/108 - 3s - loss: 1.9471 - val_loss: 1.8876 - 3s/epoch - 25ms/step\n",
            "Epoch 54/200\n",
            "108/108 - 2s - loss: 1.9468 - val_loss: 1.8900 - 2s/epoch - 21ms/step\n",
            "Epoch 55/200\n",
            "108/108 - 1s - loss: 1.9488 - val_loss: 1.8968 - 1s/epoch - 14ms/step\n",
            "Epoch 56/200\n",
            "108/108 - 1s - loss: 1.9448 - val_loss: 1.8892 - 1s/epoch - 14ms/step\n",
            "Epoch 57/200\n",
            "108/108 - 2s - loss: 1.9460 - val_loss: 1.8927 - 2s/epoch - 14ms/step\n",
            "Epoch 58/200\n",
            "108/108 - 2s - loss: 1.9456 - val_loss: 1.8928 - 2s/epoch - 17ms/step\n",
            "Epoch 59/200\n",
            "108/108 - 2s - loss: 1.9432 - val_loss: 1.8929 - 2s/epoch - 18ms/step\n",
            "Epoch 60/200\n",
            "108/108 - 2s - loss: 1.9432 - val_loss: 1.8924 - 2s/epoch - 19ms/step\n",
            "Epoch 61/200\n",
            "108/108 - 1s - loss: 1.9422 - val_loss: 1.8882 - 1s/epoch - 13ms/step\n",
            "Epoch 62/200\n",
            "108/108 - 2s - loss: 1.9431 - val_loss: 1.8899 - 2s/epoch - 14ms/step\n",
            "Epoch 63/200\n",
            "108/108 - 1s - loss: 1.9425 - val_loss: 1.8888 - 1s/epoch - 14ms/step\n",
            "Epoch 64/200\n",
            "108/108 - 2s - loss: 1.9422 - val_loss: 1.8956 - 2s/epoch - 14ms/step\n",
            "Epoch 65/200\n",
            "108/108 - 1s - loss: 1.9404 - val_loss: 1.8882 - 1s/epoch - 13ms/step\n",
            "Epoch 66/200\n",
            "108/108 - 2s - loss: 1.9392 - val_loss: 1.8872 - 2s/epoch - 14ms/step\n",
            "Epoch 67/200\n",
            "108/108 - 2s - loss: 1.9399 - val_loss: 1.8899 - 2s/epoch - 18ms/step\n",
            "Epoch 68/200\n",
            "108/108 - 2s - loss: 1.9380 - val_loss: 1.8890 - 2s/epoch - 22ms/step\n",
            "Epoch 69/200\n",
            "108/108 - 1s - loss: 1.9405 - val_loss: 1.8895 - 1s/epoch - 14ms/step\n",
            "Epoch 70/200\n",
            "108/108 - 1s - loss: 1.9382 - val_loss: 1.8888 - 1s/epoch - 14ms/step\n",
            "Epoch 71/200\n",
            "108/108 - 1s - loss: 1.9401 - val_loss: 1.8890 - 1s/epoch - 14ms/step\n",
            "Epoch 72/200\n",
            "108/108 - 2s - loss: 1.9408 - val_loss: 1.8949 - 2s/epoch - 14ms/step\n",
            "Epoch 73/200\n",
            "108/108 - 2s - loss: 1.9399 - val_loss: 1.8875 - 2s/epoch - 17ms/step\n",
            "Epoch 74/200\n",
            "108/108 - 2s - loss: 1.9389 - val_loss: 1.8881 - 2s/epoch - 15ms/step\n",
            "Epoch 75/200\n",
            "108/108 - 2s - loss: 1.9396 - val_loss: 1.8870 - 2s/epoch - 23ms/step\n",
            "Epoch 76/200\n",
            "108/108 - 2s - loss: 1.9382 - val_loss: 1.8886 - 2s/epoch - 14ms/step\n",
            "Epoch 77/200\n",
            "108/108 - 1s - loss: 1.9355 - val_loss: 1.8877 - 1s/epoch - 14ms/step\n",
            "Epoch 78/200\n",
            "108/108 - 2s - loss: 1.9367 - val_loss: 1.8893 - 2s/epoch - 14ms/step\n",
            "Epoch 79/200\n",
            "108/108 - 1s - loss: 1.9359 - val_loss: 1.8892 - 1s/epoch - 14ms/step\n",
            "Epoch 80/200\n",
            "108/108 - 1s - loss: 1.9361 - val_loss: 1.8896 - 1s/epoch - 14ms/step\n",
            "Epoch 81/200\n",
            "108/108 - 2s - loss: 1.9358 - val_loss: 1.8851 - 2s/epoch - 14ms/step\n",
            "Epoch 82/200\n",
            "108/108 - 2s - loss: 1.9347 - val_loss: 1.8908 - 2s/epoch - 17ms/step\n",
            "Epoch 83/200\n",
            "108/108 - 2s - loss: 1.9365 - val_loss: 1.8894 - 2s/epoch - 19ms/step\n",
            "Epoch 84/200\n",
            "108/108 - 1s - loss: 1.9382 - val_loss: 1.8904 - 1s/epoch - 13ms/step\n",
            "Epoch 85/200\n",
            "108/108 - 2s - loss: 1.9359 - val_loss: 1.8890 - 2s/epoch - 14ms/step\n",
            "Epoch 86/200\n",
            "108/108 - 1s - loss: 1.9343 - val_loss: 1.8915 - 1s/epoch - 14ms/step\n",
            "Epoch 87/200\n",
            "108/108 - 2s - loss: 1.9324 - val_loss: 1.8892 - 2s/epoch - 14ms/step\n",
            "Epoch 88/200\n",
            "108/108 - 1s - loss: 1.9371 - val_loss: 1.8873 - 1s/epoch - 14ms/step\n",
            "Epoch 89/200\n",
            "108/108 - 1s - loss: 1.9325 - val_loss: 1.8884 - 1s/epoch - 14ms/step\n",
            "Epoch 90/200\n",
            "108/108 - 2s - loss: 1.9360 - val_loss: 1.8869 - 2s/epoch - 19ms/step\n",
            "Epoch 91/200\n",
            "108/108 - 2s - loss: 1.9335 - val_loss: 1.8880 - 2s/epoch - 18ms/step\n",
            "Epoch 92/200\n",
            "108/108 - 1s - loss: 1.9337 - val_loss: 1.8890 - 1s/epoch - 14ms/step\n",
            "Epoch 93/200\n",
            "108/108 - 2s - loss: 1.9341 - val_loss: 1.8872 - 2s/epoch - 14ms/step\n",
            "Epoch 94/200\n",
            "108/108 - 2s - loss: 1.9315 - val_loss: 1.8870 - 2s/epoch - 15ms/step\n",
            "Epoch 95/200\n",
            "108/108 - 2s - loss: 1.9340 - val_loss: 1.8887 - 2s/epoch - 17ms/step\n",
            "Epoch 96/200\n",
            "108/108 - 2s - loss: 1.9330 - val_loss: 1.8900 - 2s/epoch - 14ms/step\n",
            "Epoch 97/200\n",
            "108/108 - 2s - loss: 1.9314 - val_loss: 1.8878 - 2s/epoch - 14ms/step\n",
            "Epoch 98/200\n",
            "108/108 - 2s - loss: 1.9333 - val_loss: 1.8915 - 2s/epoch - 22ms/step\n",
            "Epoch 99/200\n",
            "108/108 - 2s - loss: 1.9331 - val_loss: 1.8905 - 2s/epoch - 15ms/step\n",
            "Epoch 100/200\n",
            "108/108 - 2s - loss: 1.9317 - val_loss: 1.8865 - 2s/epoch - 14ms/step\n",
            "Epoch 101/200\n",
            "108/108 - 2s - loss: 1.9327 - val_loss: 1.8886 - 2s/epoch - 14ms/step\n",
            "Epoch 102/200\n",
            "108/108 - 2s - loss: 1.9323 - val_loss: 1.8927 - 2s/epoch - 14ms/step\n",
            "Epoch 103/200\n",
            "108/108 - 2s - loss: 1.9315 - val_loss: 1.8924 - 2s/epoch - 15ms/step\n",
            "Epoch 104/200\n",
            "108/108 - 2s - loss: 1.9324 - val_loss: 1.8896 - 2s/epoch - 14ms/step\n",
            "Epoch 105/200\n",
            "108/108 - 2s - loss: 1.9310 - val_loss: 1.8916 - 2s/epoch - 17ms/step\n",
            "Epoch 106/200\n",
            "108/108 - 2s - loss: 1.9301 - val_loss: 1.8916 - 2s/epoch - 19ms/step\n",
            "Epoch 107/200\n",
            "108/108 - 1s - loss: 1.9303 - val_loss: 1.8909 - 1s/epoch - 14ms/step\n",
            "Epoch 108/200\n",
            "108/108 - 2s - loss: 1.9318 - val_loss: 1.8912 - 2s/epoch - 14ms/step\n",
            "Epoch 109/200\n",
            "108/108 - 2s - loss: 1.9302 - val_loss: 1.8928 - 2s/epoch - 15ms/step\n",
            "Epoch 110/200\n",
            "108/108 - 2s - loss: 1.9287 - val_loss: 1.8894 - 2s/epoch - 14ms/step\n",
            "Epoch 111/200\n",
            "108/108 - 2s - loss: 1.9318 - val_loss: 1.8952 - 2s/epoch - 17ms/step\n",
            "Epoch 112/200\n",
            "108/108 - 1s - loss: 1.9316 - val_loss: 1.8878 - 1s/epoch - 14ms/step\n",
            "Epoch 113/200\n",
            "108/108 - 2s - loss: 1.9309 - val_loss: 1.8889 - 2s/epoch - 22ms/step\n",
            "Epoch 114/200\n",
            "108/108 - 2s - loss: 1.9309 - val_loss: 1.8935 - 2s/epoch - 16ms/step\n",
            "Epoch 115/200\n",
            "108/108 - 2s - loss: 1.9299 - val_loss: 1.8922 - 2s/epoch - 15ms/step\n",
            "Epoch 116/200\n",
            "108/108 - 1s - loss: 1.9300 - val_loss: 1.8907 - 1s/epoch - 14ms/step\n",
            "Epoch 117/200\n",
            "108/108 - 2s - loss: 1.9295 - val_loss: 1.8893 - 2s/epoch - 14ms/step\n",
            "Epoch 118/200\n",
            "108/108 - 2s - loss: 1.9301 - val_loss: 1.8933 - 2s/epoch - 14ms/step\n",
            "Epoch 119/200\n",
            "108/108 - 2s - loss: 1.9290 - val_loss: 1.8907 - 2s/epoch - 14ms/step\n",
            "Epoch 120/200\n",
            "108/108 - 2s - loss: 1.9304 - val_loss: 1.8891 - 2s/epoch - 16ms/step\n",
            "Epoch 121/200\n",
            "108/108 - 2s - loss: 1.9271 - val_loss: 1.8897 - 2s/epoch - 21ms/step\n",
            "Epoch 122/200\n",
            "108/108 - 2s - loss: 1.9303 - val_loss: 1.8898 - 2s/epoch - 14ms/step\n",
            "Epoch 123/200\n",
            "108/108 - 2s - loss: 1.9293 - val_loss: 1.8897 - 2s/epoch - 14ms/step\n",
            "Epoch 124/200\n",
            "108/108 - 2s - loss: 1.9287 - val_loss: 1.8920 - 2s/epoch - 17ms/step\n",
            "Epoch 125/200\n",
            "108/108 - 2s - loss: 1.9289 - val_loss: 1.8910 - 2s/epoch - 16ms/step\n",
            "Epoch 126/200\n",
            "108/108 - 2s - loss: 1.9300 - val_loss: 1.8903 - 2s/epoch - 14ms/step\n",
            "Epoch 127/200\n",
            "108/108 - 2s - loss: 1.9304 - val_loss: 1.8898 - 2s/epoch - 14ms/step\n",
            "Epoch 128/200\n",
            "108/108 - 2s - loss: 1.9274 - val_loss: 1.8873 - 2s/epoch - 20ms/step\n",
            "Epoch 129/200\n",
            "108/108 - 2s - loss: 1.9268 - val_loss: 1.8909 - 2s/epoch - 17ms/step\n",
            "Epoch 130/200\n",
            "108/108 - 1s - loss: 1.9266 - val_loss: 1.8894 - 1s/epoch - 14ms/step\n",
            "Epoch 131/200\n",
            "108/108 - 1s - loss: 1.9256 - val_loss: 1.8921 - 1s/epoch - 14ms/step\n",
            "Epoch 132/200\n",
            "108/108 - 2s - loss: 1.9286 - val_loss: 1.8935 - 2s/epoch - 14ms/step\n",
            "Epoch 133/200\n",
            "108/108 - 1s - loss: 1.9289 - val_loss: 1.8883 - 1s/epoch - 14ms/step\n",
            "Epoch 134/200\n",
            "108/108 - 2s - loss: 1.9292 - val_loss: 1.8913 - 2s/epoch - 14ms/step\n",
            "Epoch 135/200\n",
            "108/108 - 1s - loss: 1.9262 - val_loss: 1.8916 - 1s/epoch - 14ms/step\n",
            "Epoch 136/200\n",
            "108/108 - 2s - loss: 1.9254 - val_loss: 1.8902 - 2s/epoch - 20ms/step\n",
            "Epoch 137/200\n",
            "108/108 - 2s - loss: 1.9275 - val_loss: 1.8898 - 2s/epoch - 16ms/step\n",
            "Epoch 138/200\n",
            "108/108 - 1s - loss: 1.9239 - val_loss: 1.8943 - 1s/epoch - 14ms/step\n",
            "Epoch 139/200\n",
            "108/108 - 1s - loss: 1.9252 - val_loss: 1.8909 - 1s/epoch - 14ms/step\n",
            "Epoch 140/200\n",
            "108/108 - 2s - loss: 1.9266 - val_loss: 1.8887 - 2s/epoch - 17ms/step\n",
            "Epoch 141/200\n",
            "108/108 - 1s - loss: 1.9256 - val_loss: 1.8921 - 1s/epoch - 13ms/step\n",
            "Epoch 142/200\n",
            "108/108 - 1s - loss: 1.9253 - val_loss: 1.8911 - 1s/epoch - 14ms/step\n",
            "Epoch 143/200\n",
            "108/108 - 2s - loss: 1.9270 - val_loss: 1.8939 - 2s/epoch - 17ms/step\n",
            "Epoch 144/200\n",
            "108/108 - 2s - loss: 1.9254 - val_loss: 1.8919 - 2s/epoch - 20ms/step\n",
            "Epoch 145/200\n",
            "108/108 - 1s - loss: 1.9250 - val_loss: 1.8902 - 1s/epoch - 13ms/step\n",
            "Epoch 146/200\n",
            "108/108 - 2s - loss: 1.9257 - val_loss: 1.8888 - 2s/epoch - 17ms/step\n",
            "Epoch 147/200\n",
            "108/108 - 1s - loss: 1.9244 - val_loss: 1.8914 - 1s/epoch - 14ms/step\n",
            "Epoch 148/200\n",
            "108/108 - 2s - loss: 1.9246 - val_loss: 1.8920 - 2s/epoch - 14ms/step\n",
            "Epoch 149/200\n",
            "108/108 - 1s - loss: 1.9243 - val_loss: 1.8917 - 1s/epoch - 14ms/step\n",
            "Epoch 150/200\n",
            "108/108 - 2s - loss: 1.9240 - val_loss: 1.8959 - 2s/epoch - 15ms/step\n",
            "Epoch 151/200\n",
            "108/108 - 2s - loss: 1.9228 - val_loss: 1.8961 - 2s/epoch - 20ms/step\n",
            "Epoch 152/200\n",
            "108/108 - 2s - loss: 1.9260 - val_loss: 1.8925 - 2s/epoch - 17ms/step\n",
            "Epoch 153/200\n",
            "108/108 - 1s - loss: 1.9242 - val_loss: 1.8925 - 1s/epoch - 14ms/step\n",
            "Epoch 154/200\n",
            "108/108 - 1s - loss: 1.9254 - val_loss: 1.8903 - 1s/epoch - 14ms/step\n",
            "Epoch 155/200\n",
            "108/108 - 2s - loss: 1.9247 - val_loss: 1.8876 - 2s/epoch - 17ms/step\n",
            "Epoch 156/200\n",
            "108/108 - 2s - loss: 1.9234 - val_loss: 1.8902 - 2s/epoch - 14ms/step\n",
            "Epoch 157/200\n",
            "108/108 - 2s - loss: 1.9207 - val_loss: 1.8938 - 2s/epoch - 15ms/step\n",
            "Epoch 158/200\n",
            "108/108 - 2s - loss: 1.9247 - val_loss: 1.8900 - 2s/epoch - 17ms/step\n",
            "Epoch 159/200\n",
            "108/108 - 2s - loss: 1.9247 - val_loss: 1.8901 - 2s/epoch - 20ms/step\n",
            "Epoch 160/200\n",
            "108/108 - 1s - loss: 1.9241 - val_loss: 1.8897 - 1s/epoch - 14ms/step\n",
            "Epoch 161/200\n",
            "108/108 - 2s - loss: 1.9261 - val_loss: 1.8926 - 2s/epoch - 17ms/step\n",
            "Epoch 162/200\n",
            "108/108 - 1s - loss: 1.9225 - val_loss: 1.8870 - 1s/epoch - 14ms/step\n",
            "Epoch 163/200\n",
            "108/108 - 2s - loss: 1.9246 - val_loss: 1.8916 - 2s/epoch - 14ms/step\n",
            "Epoch 164/200\n",
            "108/108 - 1s - loss: 1.9254 - val_loss: 1.8917 - 1s/epoch - 14ms/step\n",
            "Epoch 165/200\n",
            "108/108 - 2s - loss: 1.9221 - val_loss: 1.8928 - 2s/epoch - 14ms/step\n",
            "Epoch 166/200\n",
            "108/108 - 2s - loss: 1.9225 - val_loss: 1.8909 - 2s/epoch - 19ms/step\n",
            "Epoch 167/200\n",
            "108/108 - 2s - loss: 1.9242 - val_loss: 1.8944 - 2s/epoch - 17ms/step\n",
            "Epoch 168/200\n",
            "108/108 - 1s - loss: 1.9228 - val_loss: 1.8930 - 1s/epoch - 14ms/step\n",
            "Epoch 169/200\n",
            "108/108 - 2s - loss: 1.9256 - val_loss: 1.8912 - 2s/epoch - 17ms/step\n",
            "Epoch 170/200\n",
            "108/108 - 1s - loss: 1.9218 - val_loss: 1.8911 - 1s/epoch - 13ms/step\n",
            "Epoch 171/200\n",
            "108/108 - 2s - loss: 1.9224 - val_loss: 1.8944 - 2s/epoch - 14ms/step\n",
            "Epoch 172/200\n",
            "108/108 - 1s - loss: 1.9207 - val_loss: 1.8936 - 1s/epoch - 14ms/step\n",
            "Epoch 173/200\n",
            "108/108 - 2s - loss: 1.9226 - val_loss: 1.8908 - 2s/epoch - 15ms/step\n",
            "Epoch 174/200\n",
            "108/108 - 2s - loss: 1.9215 - val_loss: 1.8934 - 2s/epoch - 20ms/step\n",
            "Epoch 175/200\n",
            "108/108 - 2s - loss: 1.9218 - val_loss: 1.8942 - 2s/epoch - 19ms/step\n",
            "Epoch 176/200\n",
            "108/108 - 2s - loss: 1.9197 - val_loss: 1.8917 - 2s/epoch - 14ms/step\n",
            "Epoch 177/200\n",
            "108/108 - 2s - loss: 1.9218 - val_loss: 1.8934 - 2s/epoch - 14ms/step\n",
            "Epoch 178/200\n",
            "108/108 - 2s - loss: 1.9217 - val_loss: 1.8896 - 2s/epoch - 17ms/step\n",
            "Epoch 179/200\n",
            "108/108 - 1s - loss: 1.9223 - val_loss: 1.8909 - 1s/epoch - 14ms/step\n",
            "Epoch 180/200\n",
            "108/108 - 2s - loss: 1.9200 - val_loss: 1.8919 - 2s/epoch - 17ms/step\n",
            "Epoch 181/200\n",
            "108/108 - 2s - loss: 1.9209 - val_loss: 1.8950 - 2s/epoch - 20ms/step\n",
            "Epoch 182/200\n",
            "108/108 - 2s - loss: 1.9201 - val_loss: 1.8920 - 2s/epoch - 16ms/step\n",
            "Epoch 183/200\n",
            "108/108 - 2s - loss: 1.9204 - val_loss: 1.8937 - 2s/epoch - 14ms/step\n",
            "Epoch 184/200\n",
            "108/108 - 1s - loss: 1.9200 - val_loss: 1.8962 - 1s/epoch - 14ms/step\n",
            "Epoch 185/200\n",
            "108/108 - 2s - loss: 1.9212 - val_loss: 1.8935 - 2s/epoch - 14ms/step\n",
            "Epoch 186/200\n",
            "108/108 - 2s - loss: 1.9220 - val_loss: 1.8942 - 2s/epoch - 14ms/step\n",
            "Epoch 187/200\n",
            "108/108 - 1s - loss: 1.9196 - val_loss: 1.8926 - 1s/epoch - 14ms/step\n",
            "Epoch 188/200\n",
            "108/108 - 2s - loss: 1.9200 - val_loss: 1.8946 - 2s/epoch - 17ms/step\n",
            "Epoch 189/200\n",
            "108/108 - 2s - loss: 1.9178 - val_loss: 1.8948 - 2s/epoch - 23ms/step\n",
            "Epoch 190/200\n",
            "108/108 - 2s - loss: 1.9206 - val_loss: 1.8917 - 2s/epoch - 17ms/step\n",
            "Epoch 191/200\n",
            "108/108 - 2s - loss: 1.9185 - val_loss: 1.8948 - 2s/epoch - 14ms/step\n",
            "Epoch 192/200\n",
            "108/108 - 1s - loss: 1.9208 - val_loss: 1.8944 - 1s/epoch - 14ms/step\n",
            "Epoch 193/200\n",
            "108/108 - 2s - loss: 1.9177 - val_loss: 1.8918 - 2s/epoch - 15ms/step\n",
            "Epoch 194/200\n",
            "108/108 - 2s - loss: 1.9193 - val_loss: 1.8925 - 2s/epoch - 14ms/step\n",
            "Epoch 195/200\n",
            "108/108 - 2s - loss: 1.9224 - val_loss: 1.8929 - 2s/epoch - 14ms/step\n",
            "Epoch 196/200\n",
            "108/108 - 2s - loss: 1.9199 - val_loss: 1.8953 - 2s/epoch - 21ms/step\n",
            "Epoch 197/200\n",
            "108/108 - 2s - loss: 1.9194 - val_loss: 1.8942 - 2s/epoch - 16ms/step\n",
            "Epoch 198/200\n",
            "108/108 - 1s - loss: 1.9205 - val_loss: 1.8912 - 1s/epoch - 14ms/step\n",
            "Epoch 199/200\n",
            "108/108 - 2s - loss: 1.9190 - val_loss: 1.8928 - 2s/epoch - 15ms/step\n",
            "Epoch 200/200\n",
            "108/108 - 1s - loss: 1.9179 - val_loss: 1.8910 - 1s/epoch - 14ms/step\n",
            "1.8850865364074707\n"
          ]
        }
      ],
      "source": [
        "# Set up some params\n",
        "nb_epoch = 200     # number of epochs to train on\n",
        "batch_size = 1024  # training batch siz\n",
        "\n",
        "# perform training ...\n",
        "#   - call the main training loop in keras for our network+dataset\n",
        "filepath = 'convmodrecnets_CNN2_0.5.wts.h5'\n",
        "history = model.fit(X_train,\n",
        "    Y_train,\n",
        "    batch_size=batch_size,\n",
        "    epochs=nb_epoch,\n",
        "    #show_accuracy=False,\n",
        "    verbose=2,\n",
        "    validation_data=(X_test, Y_test),\n",
        "    callbacks = [\n",
        "        keras.callbacks.ModelCheckpoint(filepath, monitor='val_loss', verbose=0, save_best_only=True, mode='auto'),\n",
        "        #keras.callbacks.EarlyStopping(monitor='val_loss', patience=5, verbose=0, mode='auto')\n",
        "    ])\n",
        "# we re-load the best weights once training is finished\n",
        "model.load_weights(filepath)\n",
        "\n",
        "# Show simple version of performance\n",
        "score = model.evaluate(X_test, Y_test,\n",
        "                       #show_accuracy=True,\n",
        "                       verbose=0, batch_size=batch_size)\n",
        "print(score)"
      ]
    },
    {
      "cell_type": "code",
      "execution_count": null,
      "metadata": {
        "colab": {
          "base_uri": "https://localhost:8080/",
          "height": 469
        },
        "id": "tHEwQsNsyUNs",
        "outputId": "c261e91b-3a1e-4a5c-f28d-1f116b4d1fc7"
      },
      "outputs": [
        {
          "output_type": "execute_result",
          "data": {
            "text/plain": [
              "<matplotlib.legend.Legend at 0x7f5080ecb730>"
            ]
          },
          "metadata": {},
          "execution_count": 7
        },
        {
          "output_type": "display_data",
          "data": {
            "text/plain": [
              "<Figure size 640x480 with 1 Axes>"
            ],
            "image/png": "[encoded data removed]"
          },
          "metadata": {}
        }
      ],
      "source": [
        "# Show loss curves\n",
        "plt.figure()\n",
        "plt.title('Training performance')\n",
        "plt.plot(history.epoch, history.history['loss'], label='train loss+error')\n",
        "plt.plot(history.epoch, history.history['val_loss'], label='val_error')\n",
        "plt.legend()\n"
      ]
    },
    {
      "cell_type": "code",
      "execution_count": null,
      "metadata": {
        "id": "WZ6cDKDdybqW"
      },
      "outputs": [],
      "source": [
        "def plot_confusion_matrix(cm, title='Confusion matrix', cmap=plt.cm.Blues, labels=[]):\n",
        "    plt.imshow(cm, interpolation='nearest', cmap=cmap)\n",
        "    plt.title(title)\n",
        "    plt.colorbar()\n",
        "    tick_marks = np.arange(len(labels))\n",
        "    plt.xticks(tick_marks, labels, rotation=45)\n",
        "    plt.yticks(tick_marks, labels)\n",
        "    plt.tight_layout()\n",
        "    plt.ylabel('True label')\n",
        "    plt.xlabel('Predicted label')"
      ]
    },
    {
      "cell_type": "code",
      "execution_count": null,
      "metadata": {
        "colab": {
          "base_uri": "https://localhost:8080/",
          "height": 523
        },
        "id": "uVGslKOnybtA",
        "outputId": "cffe8f11-3859-45db-ba8a-b67fe486bbd9"
      },
      "outputs": [
        {
          "output_type": "stream",
          "name": "stdout",
          "text": [
            "108/108 [==============================] - 0s 3ms/step\n"
          ]
        },
        {
          "output_type": "display_data",
          "data": {
            "text/plain": [
              "<Figure size 640x480 with 2 Axes>"
            ],
            "image/png": "[encoded data removed]"
          },
          "metadata": {}
        }
      ],
      "source": [
        "# Plot confusion matrix\n",
        "test_Y_hat = model.predict(X_test, batch_size=batch_size)\n",
        "conf = np.zeros([len(classes),len(classes)])\n",
        "confnorm = np.zeros([len(classes),len(classes)])\n",
        "for i in range(0,X_test.shape[0]):\n",
        "    j = list(Y_test[i,:]).index(1)\n",
        "    k = int(np.argmax(test_Y_hat[i,:]))\n",
        "    conf[j,k] = conf[j,k] + 1\n",
        "for i in range(0,len(classes)):\n",
        "    confnorm[i,:] = conf[i,:] / np.sum(conf[i,:])\n",
        "plot_confusion_matrix(confnorm, labels=classes)\n"
      ]
    },
    {
      "cell_type": "code",
      "execution_count": null,
      "metadata": {
        "colab": {
          "base_uri": "https://localhost:8080/",
          "height": 400
        },
        "id": "SKo4JQo5yibh",
        "outputId": "43fd9d60-ffab-4b3a-c41d-8116f8545f16"
      },
      "outputs": [
        {
          "output_type": "error",
          "ename": "ValueError",
          "evalue": "ignored",
          "traceback": [
            "\u001b[0;31m---------------------------------------------------------------------------\u001b[0m",
            "\u001b[0;31mValueError\u001b[0m                                Traceback (most recent call last)",
            "\u001b[0;32m<ipython-input-24-1041c587e1c0>\u001b[0m in \u001b[0;36m<cell line: 3>\u001b[0;34m()\u001b[0m\n\u001b[1;32m      9\u001b[0m \u001b[0;34m\u001b[0m\u001b[0m\n\u001b[1;32m     10\u001b[0m     \u001b[0;31m# estimate classes\u001b[0m\u001b[0;34m\u001b[0m\u001b[0;34m\u001b[0m\u001b[0m\n\u001b[0;32m---> 11\u001b[0;31m     \u001b[0mtest_Y_i_hat\u001b[0m \u001b[0;34m=\u001b[0m \u001b[0mmodel\u001b[0m\u001b[0;34m.\u001b[0m\u001b[0mpredict\u001b[0m\u001b[0;34m(\u001b[0m\u001b[0mtest_X_i\u001b[0m\u001b[0;34m)\u001b[0m      \u001b[0;31m# !!!\u001b[0m\u001b[0;34m\u001b[0m\u001b[0;34m\u001b[0m\u001b[0m\n\u001b[0m\u001b[1;32m     12\u001b[0m     \u001b[0mconf\u001b[0m \u001b[0;34m=\u001b[0m \u001b[0mnp\u001b[0m\u001b[0;34m.\u001b[0m\u001b[0mzeros\u001b[0m\u001b[0;34m(\u001b[0m\u001b[0;34m[\u001b[0m\u001b[0mlen\u001b[0m\u001b[0;34m(\u001b[0m\u001b[0mclasses\u001b[0m\u001b[0;34m)\u001b[0m\u001b[0;34m,\u001b[0m\u001b[0mlen\u001b[0m\u001b[0;34m(\u001b[0m\u001b[0mclasses\u001b[0m\u001b[0;34m)\u001b[0m\u001b[0;34m]\u001b[0m\u001b[0;34m)\u001b[0m\u001b[0;34m\u001b[0m\u001b[0;34m\u001b[0m\u001b[0m\n\u001b[1;32m     13\u001b[0m     \u001b[0mconfnorm\u001b[0m \u001b[0;34m=\u001b[0m \u001b[0mnp\u001b[0m\u001b[0;34m.\u001b[0m\u001b[0mzeros\u001b[0m\u001b[0;34m(\u001b[0m\u001b[0;34m[\u001b[0m\u001b[0mlen\u001b[0m\u001b[0;34m(\u001b[0m\u001b[0mclasses\u001b[0m\u001b[0;34m)\u001b[0m\u001b[0;34m,\u001b[0m\u001b[0mlen\u001b[0m\u001b[0;34m(\u001b[0m\u001b[0mclasses\u001b[0m\u001b[0;34m)\u001b[0m\u001b[0;34m]\u001b[0m\u001b[0;34m)\u001b[0m\u001b[0;34m\u001b[0m\u001b[0;34m\u001b[0m\u001b[0m\n",
            "\u001b[0;32m/usr/local/lib/python3.10/dist-packages/keras/utils/traceback_utils.py\u001b[0m in \u001b[0;36merror_handler\u001b[0;34m(*args, **kwargs)\u001b[0m\n\u001b[1;32m     68\u001b[0m             \u001b[0;31m# To get the full stack trace, call:\u001b[0m\u001b[0;34m\u001b[0m\u001b[0;34m\u001b[0m\u001b[0m\n\u001b[1;32m     69\u001b[0m             \u001b[0;31m# `tf.debugging.disable_traceback_filtering()`\u001b[0m\u001b[0;34m\u001b[0m\u001b[0;34m\u001b[0m\u001b[0m\n\u001b[0;32m---> 70\u001b[0;31m             \u001b[0;32mraise\u001b[0m \u001b[0me\u001b[0m\u001b[0;34m.\u001b[0m\u001b[0mwith_traceback\u001b[0m\u001b[0;34m(\u001b[0m\u001b[0mfiltered_tb\u001b[0m\u001b[0;34m)\u001b[0m \u001b[0;32mfrom\u001b[0m \u001b[0;32mNone\u001b[0m\u001b[0;34m\u001b[0m\u001b[0;34m\u001b[0m\u001b[0m\n\u001b[0m\u001b[1;32m     71\u001b[0m         \u001b[0;32mfinally\u001b[0m\u001b[0;34m:\u001b[0m\u001b[0;34m\u001b[0m\u001b[0;34m\u001b[0m\u001b[0m\n\u001b[1;32m     72\u001b[0m             \u001b[0;32mdel\u001b[0m \u001b[0mfiltered_tb\u001b[0m\u001b[0;34m\u001b[0m\u001b[0;34m\u001b[0m\u001b[0m\n",
            "\u001b[0;32m/usr/local/lib/python3.10/dist-packages/keras/utils/version_utils.py\u001b[0m in \u001b[0;36mdisallow_legacy_graph\u001b[0;34m(cls_name, method_name)\u001b[0m\n\u001b[1;32m    124\u001b[0m             \u001b[0;34m\"eager mode enabled.\"\u001b[0m\u001b[0;34m\u001b[0m\u001b[0;34m\u001b[0m\u001b[0m\n\u001b[1;32m    125\u001b[0m         )\n\u001b[0;32m--> 126\u001b[0;31m         \u001b[0;32mraise\u001b[0m \u001b[0mValueError\u001b[0m\u001b[0;34m(\u001b[0m\u001b[0merror_msg\u001b[0m\u001b[0;34m)\u001b[0m\u001b[0;34m\u001b[0m\u001b[0;34m\u001b[0m\u001b[0m\n\u001b[0m\u001b[1;32m    127\u001b[0m \u001b[0;34m\u001b[0m\u001b[0m\n\u001b[1;32m    128\u001b[0m \u001b[0;34m\u001b[0m\u001b[0m\n",
            "\u001b[0;31mValueError\u001b[0m: Calling `Model.predict` in graph mode is not supported when the `Model` instance was constructed with eager mode enabled. Please construct your `Model` instance in graph mode or call `Model.predict` with eager mode enabled."
          ]
        }
      ],
      "source": [
        "# Plot confusion matrix\n",
        "acc = {}\n",
        "for snr in snrs:\n",
        "\n",
        "    # extract classes @ SNR\n",
        "    test_SNRs = map(lambda x: lbl[x][1], test_idx)\n",
        "    test_X_i = X_test[np.where(np.array(test_SNRs)==snr)]\n",
        "    test_Y_i = Y_test[np.where(np.array(test_SNRs)==snr)]    \n",
        "\n",
        "    # estimate classes\n",
        "    test_Y_i_hat = model.predict(test_X_i)      # !!!\n",
        "    conf = np.zeros([len(classes),len(classes)])\n",
        "    confnorm = np.zeros([len(classes),len(classes)])\n",
        "    for i in range(0,test_X_i.shape[0]):\n",
        "        j = list(test_Y_i[i,:]).index(1)\n",
        "        k = int(np.argmax(test_Y_i_hat[i,:]))\n",
        "        conf[j,k] = conf[j,k] + 1\n",
        "    for i in range(0,len(classes)):\n",
        "        confnorm[i,:] = conf[i,:] / np.sum(conf[i,:])\n",
        "    plt.figure()\n",
        "    plot_confusion_matrix(confnorm, labels=classes, title=\"ConvNet Confusion Matrix (SNR=%d)\"%(snr))\n",
        "    \n",
        "    cor = np.sum(np.diag(conf))\n",
        "    ncor = np.sum(conf) - cor\n",
        "    print(\"Overall Accuracy: \", cor / (cor+ncor))\n",
        "    acc[snr] = 1.0*cor/(cor+ncor)\n",
        "    "
      ]
    },
    {
      "cell_type": "code",
      "execution_count": null,
      "metadata": {
        "id": "fFD8JYVV0U-Y"
      },
      "outputs": [],
      "source": []
    },
    {
      "cell_type": "code",
      "execution_count": null,
      "metadata": {
        "id": "kxxIbLvSyidm"
      },
      "outputs": [],
      "source": [
        "    # estimate classes\n",
        "    test_Y_i_hat = model.predict(test_X_i)##############\n",
        "    conf = np.zeros([len(classes), len(classes)])\n",
        "    confnorm = np.zeros([len(classes), len(classes)])\n",
        "    for i in range(0, test_X_i.shape[0]):\n",
        "        j = list(test_Y_i[i, :]).index(1)\n",
        "        k = int(np.argmax(test_Y_i_hat[i, :]))\n",
        "        conf[j, k] = conf[j, k] + 1\n",
        "    for i in range(0, len(classes)):\n",
        "        confnorm[i, :] = conf[i, :] / np.sum(conf[i, :])\n",
        "    plt.figure()\n",
        "    plot_confusion_matrix(confnorm, labels=classes, title=\"ConvNet Confusion Matrix (SNR=%d)\" % (snr))\n",
        "    \n",
        "    cor = np.sum(np.diag(conf))\n",
        "    ncor = np.sum(conf) - cor\n",
        "    print(\"Overall Accuracy: \", cor / (cor + ncor))\n",
        "    acc[snr] = 1.0 * cor / (cor + ncor)\n"
      ]
    },
    {
      "cell_type": "code",
      "execution_count": null,
      "metadata": {
        "id": "PqHZhIIDymiV"
      },
      "outputs": [],
      "source": [
        "# Save results to a pickle file for plotting later\n",
        "print(acc)\n",
        "fd = open('results_cnn2_d0.5.dat','wb')\n",
        "pickle.dump( (\"CNN2\", 0.5, acc) , fd )\n"
      ]
    },
    {
      "cell_type": "code",
      "execution_count": null,
      "metadata": {
        "id": "L6vo41Twymkp"
      },
      "outputs": [],
      "source": [
        "# Plot accuracy curve\n",
        "plt.plot(snrs, map(lambda x: acc[x], snrs))\n",
        "plt.xlabel(\"Signal to Noise Ratio\")\n",
        "plt.ylabel(\"Classification Accuracy\")\n",
        "plt.title(\"CNN2 Classification Accuracy on RadioML 2016.10 Alpha\")\n"
      ]
    },
    {
      "cell_type": "markdown",
      "metadata": {
        "id": "Yun_Rzqgl9Y4"
      },
      "source": [
        "# FGSM signal\n"
      ]
    },
    {
      "cell_type": "markdown",
      "source": [
        "### **导入库和数据库1**"
      ],
      "metadata": {
        "id": "RaGwxun8xBaf"
      }
    },
    {
      "cell_type": "code",
      "execution_count": null,
      "metadata": {
        "id": "09h7vY-2T27U",
        "colab": {
          "base_uri": "https://localhost:8080/"
        },
        "outputId": "ad854efa-4f81-4c74-af01-499a8eedcee0"
      },
      "outputs": [
        {
          "output_type": "stream",
          "name": "stdout",
          "text": [
            "[-20, -18, -16, -14, -12, -10, -8, -6, -4, -2, 0, 2, 4, 6, 8, 10, 12, 14, 16, 18] [b'8PSK', b'AM-DSB', b'AM-SSB', b'BPSK', b'CPFSK', b'GFSK', b'PAM4', b'QAM16', b'QAM64', b'QPSK', b'WBFM']\n",
            "Model: \"sequential_3\"\n",
            "_________________________________________________________________\n",
            " Layer (type)                Output Shape              Param #   \n",
            "=================================================================\n",
            " reshape_5 (Reshape)         (None, 1, 2, 128)         0         \n",
            "                                                                 \n",
            " zero_padding2d_5 (ZeroPaddi  (None, 1, 6, 128)        0         \n",
            " ng2D)                                                           \n",
            "                                                                 \n",
            " conv1 (Conv2D)              (None, 1, 2, 64)          8256      \n",
            "                                                                 \n",
            " dropout_7 (Dropout)         (None, 1, 2, 64)          0         \n",
            "                                                                 \n",
            " conv2 (Conv2D)              (None, 1, 1, 16)          1040      \n",
            "                                                                 \n",
            " flatten_3 (Flatten)         (None, 16)                0         \n",
            "                                                                 \n",
            " dense_2 (Dense)             (None, 128)               2176      \n",
            "                                                                 \n",
            " dense_3 (Dense)             (None, 11)                1419      \n",
            "                                                                 \n",
            "=================================================================\n",
            "Total params: 12,891\n",
            "Trainable params: 12,891\n",
            "Non-trainable params: 0\n",
            "_________________________________________________________________\n"
          ]
        }
      ],
      "source": [
        "import pickle\n",
        "import numpy as np\n",
        "import tensorflow as tf\n",
        "from keras.preprocessing import image\n",
        "from keras.applications import inception_v3\n",
        "from keras import backend as K\n",
        "from PIL import Image\n",
        "\n",
        "import matplotlib.pyplot as plt\n",
        "from keras.models import Model\n",
        "import keras\n",
        "#/content/drive/MyDrive/Colab Notebooks/RML2016.10a_dict.pkl\n",
        "f = open(r\"/content/drive/MyDrive/Colab Notebooks/RML2016.10a_dict.pkl\", 'rb')\n",
        "Xd = pickle.load(f, encoding='bytes')\n",
        "snrs, mods = map(lambda j: sorted(list(set(map(lambda x: x[j], Xd.keys())))), [1, 0])  # set()创建一个无序的不重复元素序列\n",
        "print(snrs, mods)\n",
        "X = []\n",
        "lbl = []\n",
        "for mod in mods:\n",
        "    for snr in snrs:\n",
        "        X.append(Xd[(mod, snr)])\n",
        "        for i in range(Xd[(mod, snr)].shape[0]):  lbl.append((mod, snr))  # append末尾添加对象\n",
        "X = np.vstack(X)\n",
        "\n",
        "mods_str = []\n",
        "for i in mods:\n",
        "    mods_str.append(str(i).split('\\'')[1])\n",
        "\n",
        "np.random.seed(2016)\n",
        "n_examples = X.shape[0]  # int 162060\n",
        "n_train = n_examples * 0.5\n",
        "train_idx = np.random.choice(range(0, n_examples), size=int(n_train), replace=False)  # ndarray with shape (81030,)\n",
        "test_idx = list(set(range(0, n_examples)) - set(train_idx))  # list (81030 items total)\n",
        "\n",
        "X_train = X[train_idx]  # ndarray with shape (81030, 2, 128)\n",
        "X_test = X[test_idx]  # 同上\n",
        "lbl_no = np.vstack(lbl)  # 这一步骤没必要，因为可以直接使用lbl去取出来调制方式\n",
        "\n",
        "lbl_mods = lbl_no[0]\n",
        "\n",
        "Y_train_no = list(map(lambda x: mods.index(lbl[x][0]), train_idx))  # 显示的是0-10数字表示调制方式list (81030 items total)\n",
        "\n",
        "Y_train_no = np.vstack(Y_train_no)  # # ndarray with shape (81030, 1)\n",
        "\n",
        "Y_test_no = list(map(lambda x: mods.index(lbl[x][0]), test_idx))\n",
        "Y_test_no = np.vstack(Y_test_no)\n",
        "\n",
        "Y_train_mod = lbl_no[:, 0]\n",
        "Y_train_mod_vsatck = np.vstack(Y_train_mod)  # 字幕显示调制方式\n",
        "\n",
        "Y_train_snrs = list(map(lambda x: snrs.index(lbl[x][1]), train_idx))\n",
        "\n",
        "Y_train_snrs = np.vstack(Y_train_snrs)\n",
        "Y_test_snrs = list(map(lambda x: snrs.index(lbl[x][1]), test_idx))\n",
        "Y_test_snrs = np.vstack(Y_test_snrs)\n",
        "\n",
        "def to_onehot(yy):\n",
        "    yy1 = np.zeros([len(yy), max(yy) + 1])\n",
        "    yy1[np.arange(len(yy)), yy] = 1\n",
        "    return yy1\n",
        "\n",
        "Y_train = to_onehot(list(map(lambda x: mods.index(lbl[x][0]), train_idx)))\n",
        "Y_test = to_onehot(list(map(lambda x: mods.index(lbl[x][0]), test_idx)))  # ndarray with shape (81030, 11)\n",
        "\n",
        "in_shp = list(X_train.shape[1:])  # list [2, 128]\n",
        "\n",
        "classes = mods  # list [b'8PSK', b'AM-DSB', b'AM-SSB', b'BPSK', b'CPFSK', b'GFSK', b'PAM4', b'QAM16', b'QAM64', b'QPSK', b'WBFM'] (11 items total)\n",
        "\n",
        "mods_str = []\n",
        "for i in mods:\n",
        "    mods_str.append(str(i).split('\\'')[1])\n",
        "# print(mods_str)  # list ['8PSK', 'AM-DSB', 'AM-SSB', 'BPSK', 'CPFSK', 'GFSK', 'PAM4', 'QAM16', 'QAM64', 'QPSK', 'WBFM']\n",
        "\n",
        "#\n",
        "\n",
        "\"\"\"##Neural Networks\n",
        "###CNN\n",
        "\"\"\"\n",
        "from keras.models import Sequential\n",
        "from keras.layers import Conv1D, Convolution2D, Flatten, Dense, Reshape,Dropout\n",
        "from keras.layers.convolutional import Conv2D, MaxPooling2D, ZeroPadding2D\n",
        "from keras import optimizers\n",
        "\n",
        "model = Sequential()\n",
        "in_shp = [2, 128]\n",
        "model.add(Reshape([1]+in_shp, input_shape=in_shp))\n",
        "# model.add(Conv2D(filters=64, kernel_size=(1,3), data_format='channels_first', activation='relu', padding='valid'))\n",
        "# model.add(Conv2D(filters=16, kernel_size=(2,3), data_format='channels_first', activation='relu', padding='valid'))\n",
        "model.add(ZeroPadding2D((0, 2)))\n",
        "model.add(Convolution2D(64,1,3,padding='valid', activation=\"relu\", name=\"conv1\"))#, init='glorot_uniform'))\n",
        "# model.add(ZeroPadding2D(0,2))\n",
        "model.add(Dropout(0.2))\n",
        "model.add(Convolution2D(16,1,3,padding='valid', activation=\"relu\", name=\"conv2\"))#, init='glorot_uniform'))  # 改了（16，2，3）\n",
        "model.add(Flatten())\n",
        "model.add(Dense(128, activation='relu'))\n",
        "model.add(Dense(11, activation='softmax'))\n",
        "\n",
        "model.compile(loss='categorical_crossentropy', optimizer='adam', metrics=['accuracy'])\n",
        "model.summary()\n",
        "\n",
        "\n",
        "\n"
      ]
    },
    {
      "cell_type": "markdown",
      "source": [
        "### **导入库和数据库2**"
      ],
      "metadata": {
        "id": "P5UrAFk1xKDG"
      }
    },
    {
      "cell_type": "code",
      "execution_count": 16,
      "metadata": {
        "colab": {
          "base_uri": "https://localhost:8080/"
        },
        "id": "fyOsdGeEd2pM",
        "outputId": "06181d65-08f1-41a7-8f50-638381512604"
      },
      "outputs": [
        {
          "output_type": "stream",
          "name": "stdout",
          "text": [
            "(5500, 2, 128) [2, 128]\n",
            "Model: \"sequential_1\"\n",
            "_________________________________________________________________\n",
            " Layer (type)                Output Shape              Param #   \n",
            "=================================================================\n",
            " reshape_2 (Reshape)         (None, 1, 2, 128)         0         \n",
            "                                                                 \n",
            " zero_padding2d_2 (ZeroPaddi  (None, 1, 6, 128)        0         \n",
            " ng2D)                                                           \n",
            "                                                                 \n",
            " conv1 (Conv2D)              (None, 1, 2, 256)         33024     \n",
            "                                                                 \n",
            " dropout_3 (Dropout)         (None, 1, 2, 256)         0         \n",
            "                                                                 \n",
            " zero_padding2d_3 (ZeroPaddi  (None, 1, 6, 256)        0         \n",
            " ng2D)                                                           \n",
            "                                                                 \n",
            " conv2 (Conv2D)              (None, 1, 2, 80)          20560     \n",
            "                                                                 \n",
            " dropout_4 (Dropout)         (None, 1, 2, 80)          0         \n",
            "                                                                 \n",
            " flatten_1 (Flatten)         (None, 160)               0         \n",
            "                                                                 \n",
            " dense1 (Dense)              (None, 256)               41216     \n",
            "                                                                 \n",
            " dropout_5 (Dropout)         (None, 256)               0         \n",
            "                                                                 \n",
            " dense2 (Dense)              (None, 11)                2827      \n",
            "                                                                 \n",
            " activation_1 (Activation)   (None, 11)                0         \n",
            "                                                                 \n",
            " reshape_3 (Reshape)         (None, 11)                0         \n",
            "                                                                 \n",
            "=================================================================\n",
            "Total params: 97,627\n",
            "Trainable params: 97,627\n",
            "Non-trainable params: 0\n",
            "_________________________________________________________________\n"
          ]
        }
      ],
      "source": [
        "#1\n",
        "\n",
        "\n",
        "\n",
        "\n",
        "\n",
        "# Import all the things we need ---\n",
        "#   by setting env variables before Keras import you can set up which backend and which GPU it uses\n",
        "#%matplotlib inline\n",
        "import os,random\n",
        "# from sys import path\n",
        "# path.append(r\"d:\\programe\\anaconda\\lib\\site-packages\")#导入需要接入的文件路径\n",
        "# path.append(r\"D:\\programe\\anaconda\\Scripts\")#导入需要接入的文件路径\n",
        "\n",
        "os.environ[\"KERAS_BACKEND\"] = \"theano\"\n",
        "#os.environ[\"KERAS_BACKEND\"] = \"tensorflow\"\n",
        "os.environ[\"THEANO_FLAGS\"]  = \"device=gpu%d\"%(1)\n",
        "import numpy as np\n",
        "# import theano as th\n",
        "# import theano.tensor as T\n",
        "from keras.utils import np_utils\n",
        "import keras.models as models\n",
        "from keras.layers.core import Reshape,Dense,Dropout,Activation,Flatten\n",
        "from keras.layers.noise import GaussianNoise\n",
        "from keras.layers.convolutional import Convolution2D, MaxPooling2D, ZeroPadding2D\n",
        "from keras.regularizers import *\n",
        "#from keras.optimizers import adam\n",
        "import matplotlib.pyplot as plt\n",
        "import seaborn as sns\n",
        "import pickle, random, sys, keras\n",
        "from keras import backend as K\n",
        "# Load the dataset ...\n",
        "#  You will need to seperately download or generate this file\n",
        "##Xd = cPickle.load(open(\"RML2016.10a_dict.dat\",'rb'))\n",
        "import pickle\n",
        "import numpy as np\n",
        "Xd = pickle.load(open(r\"/content/drive/MyDrive/Colab Notebooks/RML2016.10a_dict.pkl\", 'rb'),encoding='latin')\n",
        "snrs, mods = map(lambda j: sorted(list(set(map(lambda x: x[j], Xd.keys())))), [1, 0])\n",
        "X = []\n",
        "lbl = []\n",
        "\n",
        "snrs = [18]#snrs[-1:]\n",
        "for mod in mods:\n",
        "    for snr in snrs:\n",
        "        X.append(Xd[(mod, snr)])\n",
        "        for i in range(Xd[(mod, snr)].shape[0]):  lbl.append((mod, snr))\n",
        "X = np.vstack(X)\n",
        "\n",
        "#归一化\n",
        "#X = (X - X.min()*np.ones([11000,2,128]))/(X.max()-X.min())#\n",
        "# %%\n",
        "np.random.seed(2016)  # 对预处理好的数据进行打包，制作成投入网络训练的格式，并进行one-hot编码\n",
        "n_examples = X.shape[0]\n",
        "n_train = n_examples * 0.5\n",
        "train_idx = np.random.choice(range(0, n_examples), size=int(n_train), replace=False)\n",
        "test_idx = list(set(range(0, n_examples)) - set(train_idx))  # label\n",
        "X_train = X[train_idx]\n",
        "X_test = X[test_idx]\n",
        "def to_onehot(yy):\n",
        "    yy1 = np.zeros([len(yy), max(yy) + 1])\n",
        "    yy1[np.arange(len(yy)), yy] = 1\n",
        "    return yy1\n",
        "trainy = list(map(lambda x: mods.index(lbl[x][0]), train_idx))\n",
        "Y_train = to_onehot(trainy)\n",
        "Y_test = to_onehot(list(map(lambda x: mods.index(lbl[x][0]), test_idx)))\n",
        "\n",
        "\n",
        "\n",
        "# snrs,mods = map(lambda j: sorted(list(set(map(lambda x: x[j], Xd.keys())))), [1,0])\n",
        "# X = []\n",
        "# lbl = []\n",
        "# for mod in mods:\n",
        "#     for snr in snrs:\n",
        "#         X.append(Xd[(mod,snr)])\n",
        "#         for i in range(Xd[(mod,snr)].shape[0]):  lbl.append((mod,snr))\n",
        "# X = np.vstack(X)\n",
        "\n",
        "# # Partition the data\n",
        "# #  into training and test sets of the form we can train/test on\n",
        "# #  while keeping SNR and Mod labels handy for each\n",
        "# np.random.seed(2016)\n",
        "# n_examples = X.shape[0]\n",
        "# #print(type(n_train))\n",
        "# n_train = n_examples * 0.5\n",
        "# train_idx = np.random.choice(range(0,n_examples), size=int(n_train), replace=False)\n",
        "# test_idx = list(set(range(0,n_examples))-set(train_idx))\n",
        "# X_train = X[train_idx]\n",
        "# X_test =  X[test_idx]\n",
        "# def to_onehot(yy):\n",
        "#     yy1 = np.zeros([len(yy), max(yy)+1])\n",
        "#     yy1[np.arange(len(yy)),yy] = 1\n",
        "#     return yy1\n",
        "# #print(list(map(lambda x: mods.index(lbl[x][0]), train_idx)))\n",
        "# Y_train = to_onehot(list(map(lambda x: mods.index(lbl[x][0]), train_idx)))\n",
        "# Y_test = to_onehot(list(map(lambda x: mods.index(lbl[x][0]), test_idx)))\n",
        "\n",
        "\n",
        "\n",
        "in_shp = list(X_train.shape[1:])\n",
        "print(X_train.shape, in_shp)\n",
        "classes = mods\n",
        "\n",
        "# Build VT-CNN2 Neural Net model using Keras primitives --\n",
        "#  - Reshape [N,2,128] to [N,1,2,128] on input\n",
        "#  - Pass through 2 2DConv/ReLu layers\n",
        "#  - Pass through 2 Dense layers (ReLu and Softmax)\n",
        "#  - Perform categorical cross entropy optimization\n",
        "\n",
        "\n",
        "\n",
        "dr = 0.5 # dropout rate (%)\n",
        "model = models.Sequential()\n",
        "model.add(Reshape([1]+in_shp, input_shape=in_shp))\n",
        "model.add(ZeroPadding2D((0, 2)))\n",
        "model.add(Convolution2D(256, 1, 3, padding='valid', activation=\"relu\", name=\"conv1\"))#, init='glorot_uniform'))\n",
        "model.add(Dropout(dr))\n",
        "model.add(ZeroPadding2D((0, 2)))\n",
        "model.add(Convolution2D(80, 1, 3, padding=\"valid\", activation=\"relu\", name=\"conv2\"))#, init='glorot_uniform'))\n",
        "model.add(Dropout(dr))\n",
        "model.add(Flatten())\n",
        "model.add(Dense(256, activation='relu', name=\"dense1\"))#, init='he_normal'\n",
        "model.add(Dropout(dr))\n",
        "model.add(Dense( len(classes), name=\"dense2\" ))#, init='he_normal'\n",
        "model.add(Activation('softmax'))\n",
        "model.add(Reshape([len(classes)]))\n",
        "model.compile(loss='categorical_crossentropy', optimizer='adam')\n",
        "model_input_layer  = model.layers[0].input  #输入层的变量控制\n",
        "model_output_layer = model.layers[-1].output  #输出层的变量控制\n",
        "model.summary()\n",
        "\n"
      ]
    },
    {
      "cell_type": "markdown",
      "source": [],
      "metadata": {
        "id": "oudQi2Wdw_ED"
      }
    },
    {
      "cell_type": "code",
      "source": [
        "print(snrs)\n",
        "print(model.input[0])\n",
        "print(model.layers[-1].output)"
      ],
      "metadata": {
        "colab": {
          "base_uri": "https://localhost:8080/"
        },
        "id": "AOj8EEnrps1x",
        "outputId": "9f0efe3a-910a-4723-ed31-a1e8428c0841"
      },
      "execution_count": 17,
      "outputs": [
        {
          "output_type": "stream",
          "name": "stdout",
          "text": [
            "[18]\n",
            "Tensor(\"strided_slice:0\", shape=(2, 128), dtype=float32)\n",
            "Tensor(\"reshape_3/Reshape:0\", shape=(None, 11), dtype=float32)\n"
          ]
        }
      ]
    },
    {
      "cell_type": "markdown",
      "source": [
        "### **训练**"
      ],
      "metadata": {
        "id": "oFxhWgFFxbhn"
      }
    },
    {
      "cell_type": "code",
      "execution_count": 18,
      "metadata": {
        "id": "gOvQ1MPckadP",
        "colab": {
          "base_uri": "https://localhost:8080/"
        },
        "outputId": "851a991b-37d4-41ca-b335-39e73070e0e0"
      },
      "outputs": [
        {
          "output_type": "stream",
          "name": "stdout",
          "text": [
            "Train on 5500 samples, validate on 5500 samples\n",
            "Epoch 1/100\n"
          ]
        },
        {
          "output_type": "stream",
          "name": "stderr",
          "text": [
            "/usr/local/lib/python3.10/dist-packages/keras/engine/training_v1.py:2335: UserWarning: `Model.state_updates` will be removed in a future version. This property should not be used in TensorFlow 2.0, as `updates` are applied automatically.\n",
            "  updates = self.state_updates\n"
          ]
        },
        {
          "output_type": "stream",
          "name": "stdout",
          "text": [
            "5500/5500 - 1s - loss: 2.3970 - val_loss: 2.3943 - 1s/epoch - 266us/sample\n",
            "Epoch 2/100\n",
            "5500/5500 - 0s - loss: 2.3924 - val_loss: 2.3844 - 344ms/epoch - 63us/sample\n",
            "Epoch 3/100\n",
            "5500/5500 - 0s - loss: 2.3801 - val_loss: 2.3605 - 379ms/epoch - 69us/sample\n",
            "Epoch 4/100\n",
            "5500/5500 - 0s - loss: 2.3521 - val_loss: 2.3104 - 433ms/epoch - 79us/sample\n",
            "Epoch 5/100\n",
            "5500/5500 - 1s - loss: 2.2951 - val_loss: 2.2256 - 513ms/epoch - 93us/sample\n",
            "Epoch 6/100\n",
            "5500/5500 - 1s - loss: 2.2122 - val_loss: 2.1354 - 560ms/epoch - 102us/sample\n",
            "Epoch 7/100\n",
            "5500/5500 - 1s - loss: 2.1539 - val_loss: 2.0932 - 612ms/epoch - 111us/sample\n",
            "Epoch 8/100\n",
            "5500/5500 - 1s - loss: 2.1356 - val_loss: 2.0846 - 575ms/epoch - 105us/sample\n",
            "Epoch 9/100\n",
            "5500/5500 - 1s - loss: 2.1252 - val_loss: 2.0780 - 562ms/epoch - 102us/sample\n",
            "Epoch 10/100\n",
            "5500/5500 - 1s - loss: 2.1152 - val_loss: 2.0753 - 571ms/epoch - 104us/sample\n",
            "Epoch 11/100\n",
            "5500/5500 - 1s - loss: 2.1068 - val_loss: 2.0731 - 599ms/epoch - 109us/sample\n",
            "Epoch 12/100\n",
            "5500/5500 - 1s - loss: 2.1025 - val_loss: 2.0714 - 536ms/epoch - 97us/sample\n",
            "Epoch 13/100\n",
            "5500/5500 - 1s - loss: 2.0976 - val_loss: 2.0679 - 542ms/epoch - 99us/sample\n",
            "Epoch 14/100\n",
            "5500/5500 - 0s - loss: 2.0963 - val_loss: 2.0651 - 429ms/epoch - 78us/sample\n",
            "Epoch 15/100\n",
            "5500/5500 - 0s - loss: 2.0917 - val_loss: 2.0600 - 330ms/epoch - 60us/sample\n",
            "Epoch 16/100\n",
            "5500/5500 - 0s - loss: 2.0916 - val_loss: 2.0563 - 309ms/epoch - 56us/sample\n",
            "Epoch 17/100\n",
            "5500/5500 - 0s - loss: 2.0868 - val_loss: 2.0526 - 311ms/epoch - 57us/sample\n",
            "Epoch 18/100\n",
            "5500/5500 - 0s - loss: 2.0794 - val_loss: 2.0476 - 340ms/epoch - 62us/sample\n",
            "Epoch 19/100\n",
            "5500/5500 - 0s - loss: 2.0772 - val_loss: 2.0433 - 350ms/epoch - 64us/sample\n",
            "Epoch 20/100\n",
            "5500/5500 - 0s - loss: 2.0695 - val_loss: 2.0355 - 331ms/epoch - 60us/sample\n",
            "Epoch 21/100\n",
            "5500/5500 - 0s - loss: 2.0583 - val_loss: 2.0267 - 357ms/epoch - 65us/sample\n",
            "Epoch 22/100\n",
            "5500/5500 - 0s - loss: 2.0550 - val_loss: 2.0163 - 357ms/epoch - 65us/sample\n",
            "Epoch 23/100\n",
            "5500/5500 - 0s - loss: 2.0460 - val_loss: 2.0031 - 330ms/epoch - 60us/sample\n",
            "Epoch 24/100\n",
            "5500/5500 - 0s - loss: 2.0313 - val_loss: 1.9879 - 357ms/epoch - 65us/sample\n",
            "Epoch 25/100\n",
            "5500/5500 - 0s - loss: 2.0254 - val_loss: 1.9749 - 351ms/epoch - 64us/sample\n",
            "Epoch 26/100\n",
            "5500/5500 - 0s - loss: 2.0098 - val_loss: 1.9584 - 304ms/epoch - 55us/sample\n",
            "Epoch 27/100\n",
            "5500/5500 - 0s - loss: 1.9906 - val_loss: 1.9402 - 340ms/epoch - 62us/sample\n",
            "Epoch 28/100\n",
            "5500/5500 - 0s - loss: 1.9744 - val_loss: 1.9214 - 315ms/epoch - 57us/sample\n",
            "Epoch 29/100\n",
            "5500/5500 - 0s - loss: 1.9597 - val_loss: 1.9029 - 313ms/epoch - 57us/sample\n",
            "Epoch 30/100\n",
            "5500/5500 - 0s - loss: 1.9353 - val_loss: 1.8765 - 322ms/epoch - 59us/sample\n",
            "Epoch 31/100\n",
            "5500/5500 - 0s - loss: 1.9078 - val_loss: 1.8465 - 317ms/epoch - 58us/sample\n",
            "Epoch 32/100\n",
            "5500/5500 - 0s - loss: 1.8836 - val_loss: 1.8144 - 345ms/epoch - 63us/sample\n",
            "Epoch 33/100\n",
            "5500/5500 - 0s - loss: 1.8493 - val_loss: 1.7784 - 360ms/epoch - 65us/sample\n",
            "Epoch 34/100\n",
            "5500/5500 - 0s - loss: 1.8186 - val_loss: 1.7418 - 337ms/epoch - 61us/sample\n",
            "Epoch 35/100\n",
            "5500/5500 - 0s - loss: 1.7927 - val_loss: 1.7080 - 302ms/epoch - 55us/sample\n",
            "Epoch 36/100\n",
            "5500/5500 - 0s - loss: 1.7556 - val_loss: 1.6787 - 323ms/epoch - 59us/sample\n",
            "Epoch 37/100\n",
            "5500/5500 - 0s - loss: 1.7395 - val_loss: 1.6518 - 306ms/epoch - 56us/sample\n",
            "Epoch 38/100\n",
            "5500/5500 - 0s - loss: 1.7187 - val_loss: 1.6257 - 324ms/epoch - 59us/sample\n",
            "Epoch 39/100\n",
            "5500/5500 - 0s - loss: 1.6965 - val_loss: 1.6047 - 319ms/epoch - 58us/sample\n",
            "Epoch 40/100\n",
            "5500/5500 - 0s - loss: 1.6754 - val_loss: 1.5848 - 322ms/epoch - 59us/sample\n",
            "Epoch 41/100\n",
            "5500/5500 - 0s - loss: 1.6582 - val_loss: 1.5649 - 333ms/epoch - 61us/sample\n",
            "Epoch 42/100\n",
            "5500/5500 - 0s - loss: 1.6447 - val_loss: 1.5468 - 302ms/epoch - 55us/sample\n",
            "Epoch 43/100\n",
            "5500/5500 - 0s - loss: 1.6254 - val_loss: 1.5248 - 334ms/epoch - 61us/sample\n",
            "Epoch 44/100\n",
            "5500/5500 - 0s - loss: 1.6098 - val_loss: 1.5109 - 354ms/epoch - 64us/sample\n",
            "Epoch 45/100\n",
            "5500/5500 - 1s - loss: 1.5998 - val_loss: 1.4987 - 566ms/epoch - 103us/sample\n",
            "Epoch 46/100\n",
            "5500/5500 - 1s - loss: 1.5686 - val_loss: 1.4835 - 573ms/epoch - 104us/sample\n",
            "Epoch 47/100\n",
            "5500/5500 - 1s - loss: 1.5781 - val_loss: 1.4701 - 592ms/epoch - 108us/sample\n",
            "Epoch 48/100\n",
            "5500/5500 - 1s - loss: 1.5606 - val_loss: 1.4600 - 570ms/epoch - 104us/sample\n",
            "Epoch 49/100\n",
            "5500/5500 - 1s - loss: 1.5378 - val_loss: 1.4439 - 532ms/epoch - 97us/sample\n",
            "Epoch 50/100\n",
            "5500/5500 - 1s - loss: 1.5225 - val_loss: 1.4297 - 553ms/epoch - 101us/sample\n",
            "Epoch 51/100\n",
            "5500/5500 - 1s - loss: 1.5089 - val_loss: 1.4204 - 518ms/epoch - 94us/sample\n",
            "Epoch 52/100\n",
            "5500/5500 - 1s - loss: 1.5060 - val_loss: 1.4126 - 567ms/epoch - 103us/sample\n",
            "Epoch 53/100\n",
            "5500/5500 - 1s - loss: 1.4928 - val_loss: 1.4013 - 557ms/epoch - 101us/sample\n",
            "Epoch 54/100\n",
            "5500/5500 - 0s - loss: 1.4779 - val_loss: 1.3914 - 469ms/epoch - 85us/sample\n",
            "Epoch 55/100\n",
            "5500/5500 - 0s - loss: 1.4855 - val_loss: 1.3870 - 355ms/epoch - 65us/sample\n",
            "Epoch 56/100\n",
            "5500/5500 - 0s - loss: 1.4812 - val_loss: 1.3766 - 358ms/epoch - 65us/sample\n",
            "Epoch 57/100\n",
            "5500/5500 - 0s - loss: 1.4673 - val_loss: 1.3751 - 343ms/epoch - 62us/sample\n",
            "Epoch 58/100\n",
            "5500/5500 - 0s - loss: 1.4572 - val_loss: 1.3650 - 366ms/epoch - 67us/sample\n",
            "Epoch 59/100\n",
            "5500/5500 - 0s - loss: 1.4425 - val_loss: 1.3588 - 349ms/epoch - 64us/sample\n",
            "Epoch 60/100\n",
            "5500/5500 - 0s - loss: 1.4452 - val_loss: 1.3536 - 367ms/epoch - 67us/sample\n",
            "Epoch 61/100\n",
            "5500/5500 - 0s - loss: 1.4393 - val_loss: 1.3443 - 368ms/epoch - 67us/sample\n",
            "Epoch 62/100\n",
            "5500/5500 - 0s - loss: 1.4274 - val_loss: 1.3384 - 374ms/epoch - 68us/sample\n",
            "Epoch 63/100\n",
            "5500/5500 - 0s - loss: 1.4191 - val_loss: 1.3350 - 356ms/epoch - 65us/sample\n",
            "Epoch 64/100\n",
            "5500/5500 - 0s - loss: 1.4139 - val_loss: 1.3287 - 345ms/epoch - 63us/sample\n",
            "Epoch 65/100\n",
            "5500/5500 - 0s - loss: 1.4060 - val_loss: 1.3252 - 341ms/epoch - 62us/sample\n",
            "Epoch 66/100\n",
            "5500/5500 - 0s - loss: 1.4132 - val_loss: 1.3224 - 358ms/epoch - 65us/sample\n",
            "Epoch 67/100\n",
            "5500/5500 - 0s - loss: 1.4074 - val_loss: 1.3181 - 324ms/epoch - 59us/sample\n",
            "Epoch 68/100\n",
            "5500/5500 - 0s - loss: 1.4016 - val_loss: 1.3181 - 288ms/epoch - 52us/sample\n",
            "Epoch 69/100\n",
            "5500/5500 - 0s - loss: 1.3904 - val_loss: 1.3103 - 321ms/epoch - 58us/sample\n",
            "Epoch 70/100\n",
            "5500/5500 - 0s - loss: 1.3789 - val_loss: 1.3038 - 331ms/epoch - 60us/sample\n",
            "Epoch 71/100\n",
            "5500/5500 - 0s - loss: 1.3870 - val_loss: 1.3018 - 307ms/epoch - 56us/sample\n",
            "Epoch 72/100\n",
            "5500/5500 - 0s - loss: 1.3780 - val_loss: 1.3031 - 278ms/epoch - 51us/sample\n",
            "Epoch 73/100\n",
            "5500/5500 - 0s - loss: 1.3683 - val_loss: 1.2995 - 324ms/epoch - 59us/sample\n",
            "Epoch 74/100\n",
            "5500/5500 - 0s - loss: 1.3694 - val_loss: 1.2933 - 317ms/epoch - 58us/sample\n",
            "Epoch 75/100\n",
            "5500/5500 - 0s - loss: 1.3608 - val_loss: 1.2895 - 311ms/epoch - 56us/sample\n",
            "Epoch 76/100\n",
            "5500/5500 - 0s - loss: 1.3605 - val_loss: 1.2888 - 319ms/epoch - 58us/sample\n",
            "Epoch 77/100\n",
            "5500/5500 - 0s - loss: 1.3522 - val_loss: 1.2912 - 297ms/epoch - 54us/sample\n",
            "Epoch 78/100\n",
            "5500/5500 - 0s - loss: 1.3649 - val_loss: 1.2879 - 330ms/epoch - 60us/sample\n",
            "Epoch 79/100\n",
            "5500/5500 - 0s - loss: 1.3596 - val_loss: 1.2850 - 331ms/epoch - 60us/sample\n",
            "Epoch 80/100\n",
            "5500/5500 - 0s - loss: 1.3523 - val_loss: 1.2828 - 327ms/epoch - 59us/sample\n",
            "Epoch 81/100\n",
            "5500/5500 - 0s - loss: 1.3480 - val_loss: 1.2765 - 358ms/epoch - 65us/sample\n",
            "Epoch 82/100\n",
            "5500/5500 - 0s - loss: 1.3477 - val_loss: 1.2742 - 370ms/epoch - 67us/sample\n",
            "Epoch 83/100\n",
            "5500/5500 - 0s - loss: 1.3421 - val_loss: 1.2740 - 352ms/epoch - 64us/sample\n",
            "Epoch 84/100\n",
            "5500/5500 - 1s - loss: 1.3405 - val_loss: 1.2729 - 538ms/epoch - 98us/sample\n",
            "Epoch 85/100\n",
            "5500/5500 - 1s - loss: 1.3378 - val_loss: 1.2668 - 582ms/epoch - 106us/sample\n",
            "Epoch 86/100\n",
            "5500/5500 - 1s - loss: 1.3369 - val_loss: 1.2634 - 606ms/epoch - 110us/sample\n",
            "Epoch 87/100\n",
            "5500/5500 - 1s - loss: 1.3300 - val_loss: 1.2647 - 526ms/epoch - 96us/sample\n",
            "Epoch 88/100\n",
            "5500/5500 - 1s - loss: 1.3217 - val_loss: 1.2616 - 579ms/epoch - 105us/sample\n",
            "Epoch 89/100\n",
            "5500/5500 - 1s - loss: 1.3271 - val_loss: 1.2614 - 568ms/epoch - 103us/sample\n",
            "Epoch 90/100\n",
            "5500/5500 - 1s - loss: 1.3219 - val_loss: 1.2567 - 553ms/epoch - 101us/sample\n",
            "Epoch 91/100\n",
            "5500/5500 - 1s - loss: 1.3144 - val_loss: 1.2546 - 556ms/epoch - 101us/sample\n",
            "Epoch 92/100\n",
            "5500/5500 - 1s - loss: 1.3102 - val_loss: 1.2556 - 523ms/epoch - 95us/sample\n",
            "Epoch 93/100\n",
            "5500/5500 - 0s - loss: 1.3178 - val_loss: 1.2538 - 486ms/epoch - 88us/sample\n",
            "Epoch 94/100\n",
            "5500/5500 - 0s - loss: 1.3096 - val_loss: 1.2512 - 352ms/epoch - 64us/sample\n",
            "Epoch 95/100\n",
            "5500/5500 - 0s - loss: 1.3086 - val_loss: 1.2484 - 338ms/epoch - 61us/sample\n",
            "Epoch 96/100\n",
            "5500/5500 - 0s - loss: 1.3038 - val_loss: 1.2498 - 287ms/epoch - 52us/sample\n",
            "Epoch 97/100\n",
            "5500/5500 - 0s - loss: 1.3129 - val_loss: 1.2471 - 305ms/epoch - 55us/sample\n",
            "Epoch 98/100\n",
            "5500/5500 - 0s - loss: 1.2972 - val_loss: 1.2433 - 318ms/epoch - 58us/sample\n",
            "Epoch 99/100\n",
            "5500/5500 - 0s - loss: 1.3055 - val_loss: 1.2418 - 313ms/epoch - 57us/sample\n",
            "Epoch 100/100\n",
            "5500/5500 - 0s - loss: 1.2940 - val_loss: 1.2437 - 283ms/epoch - 52us/sample\n",
            "1.2418437489596281\n"
          ]
        }
      ],
      "source": [
        "#2\n",
        "\n",
        "\n",
        "\n",
        "\n",
        "nb_epoch = 100     # number of epochs to train on\n",
        "batch_size = 1024 # training batch siz\n",
        "\n",
        "# perform training ...\n",
        "#   - call the main training loop in keras for our network+dataset\n",
        "filepath = 'convmodrecnets_CNN2_0.5.wts.h5'\n",
        "history = model.fit(X_train,\n",
        "    Y_train,\n",
        "    batch_size=batch_size,\n",
        "    epochs=nb_epoch,\n",
        "    #show_accuracy=False,\n",
        "    verbose=2,\n",
        "    validation_data=(X_test, Y_test),\n",
        "    callbacks = [\n",
        "        keras.callbacks.ModelCheckpoint(filepath, monitor='val_loss', verbose=0, save_best_only=True, mode='auto'),\n",
        "        keras.callbacks.EarlyStopping(monitor='val_loss', patience=5, verbose=0, mode='auto')\n",
        "    ])\n",
        "# we re-load the best weights once training is finished\n",
        "model.load_weights(filepath)\n",
        "\n",
        "# Show simple version of performance\n",
        "score = model.evaluate(X_test, Y_test,\n",
        "                       #show_accuracy=True,\n",
        "                       verbose=0, batch_size=batch_size)\n",
        "print(score)"
      ]
    },
    {
      "cell_type": "markdown",
      "source": [
        "### **损失函数图**"
      ],
      "metadata": {
        "id": "TYncZ9bJxgfF"
      }
    },
    {
      "cell_type": "code",
      "execution_count": 19,
      "metadata": {
        "id": "65-Bh7TWnLPQ",
        "colab": {
          "base_uri": "https://localhost:8080/",
          "height": 469
        },
        "outputId": "585349a9-eb14-4320-9d02-24a07e44bd34"
      },
      "outputs": [
        {
          "output_type": "execute_result",
          "data": {
            "text/plain": [
              "<matplotlib.legend.Legend at 0x7fc345622cb0>"
            ]
          },
          "metadata": {},
          "execution_count": 19
        },
        {
          "output_type": "display_data",
          "data": {
            "text/plain": [
              "<Figure size 640x480 with 1 Axes>"
            ],
            "image/png": "[encoded data removed]"
          },
          "metadata": {}
        }
      ],
      "source": [
        "#3\n",
        "\n",
        "\n",
        "\n",
        "\n",
        "# Show loss curves \n",
        "plt.figure()\n",
        "plt.title('Training performance')\n",
        "plt.plot(history.epoch, history.history['loss'], label='train loss+error')\n",
        "plt.plot(history.epoch, history.history['val_loss'], label='val_error')\n",
        "plt.legend()"
      ]
    },
    {
      "cell_type": "markdown",
      "source": [
        "### **混淆矩阵**"
      ],
      "metadata": {
        "id": "T_YP4n3_lq-4"
      }
    },
    {
      "cell_type": "code",
      "source": [
        "#4\n",
        "\n",
        "\n",
        "\n",
        "\n",
        "\n",
        "def plot_confusion_matrix(cm, title='Confusion matrix', cmap=plt.cm.Blues, labels=[]):\n",
        "    plt.imshow(cm, interpolation='nearest', cmap=cmap)\n",
        "    plt.title(title)\n",
        "    plt.colorbar()\n",
        "    tick_marks = np.arange(len(labels))\n",
        "    plt.xticks(tick_marks, labels, rotation=45)\n",
        "    plt.yticks(tick_marks, labels)\n",
        "    plt.tight_layout()\n",
        "    plt.ylabel('True label')\n",
        "    plt.xlabel('Predicted label')"
      ],
      "metadata": {
        "id": "CfOPpzt5lrDp"
      },
      "execution_count": 20,
      "outputs": []
    },
    {
      "cell_type": "code",
      "source": [
        "#5\n",
        "\n",
        "\n",
        "\n",
        "\n",
        "# Plot confusion matrix\n",
        "test_Y_hat = model.predict(X_test, batch_size=batch_size)\n",
        "conf = np.zeros([len(classes),len(classes)])\n",
        "confnorm = np.zeros([len(classes),len(classes)])\n",
        "for i in range(0,X_test.shape[0]):\n",
        "    j = list(Y_test[i,:]).index(1)\n",
        "    k = int(np.argmax(test_Y_hat[i,:]))\n",
        "    conf[j,k] = conf[j,k] + 1\n",
        "for i in range(0,len(classes)):\n",
        "    confnorm[i,:] = conf[i,:] / np.sum(conf[i,:])\n",
        "plot_confusion_matrix(confnorm, labels=classes)"
      ],
      "metadata": {
        "colab": {
          "base_uri": "https://localhost:8080/",
          "height": 561
        },
        "id": "ef8du8hIlxYf",
        "outputId": "d9e5ba1a-7593-43f3-c8b9-33c94faef3dd"
      },
      "execution_count": 21,
      "outputs": [
        {
          "output_type": "stream",
          "name": "stderr",
          "text": [
            "/usr/local/lib/python3.10/dist-packages/keras/engine/training_v1.py:2359: UserWarning: `Model.state_updates` will be removed in a future version. This property should not be used in TensorFlow 2.0, as `updates` are applied automatically.\n",
            "  updates=self.state_updates,\n"
          ]
        },
        {
          "output_type": "display_data",
          "data": {
            "text/plain": [
              "<Figure size 640x480 with 2 Axes>"
            ],
            "image/png": "[encoded data removed]"
          },
          "metadata": {}
        }
      ]
    },
    {
      "cell_type": "code",
      "source": [
        "# Plot confusion matrix\n",
        "acc = {}\n",
        "for snr in snrs:\n",
        "\n",
        "    # extract classes @ SNR\n",
        "    test_SNRs = map(lambda x: lbl[x][1], test_idx)\n",
        "    test_X_i = X_test[np.where(np.array(test_SNRs)==snr)]\n",
        "    test_Y_i = Y_test[np.where(np.array(test_SNRs)==snr)]    \n",
        "\n",
        "    # estimate classes\n",
        "    test_Y_i_hat = model.predict(test_X_i)\n",
        "    conf = np.zeros([len(classes),len(classes)])\n",
        "    confnorm = np.zeros([len(classes),len(classes)])\n",
        "    for i in range(0,test_X_i.shape[0]):\n",
        "        j = list(test_Y_i[i,:]).index(1)\n",
        "        k = int(np.argmax(test_Y_i_hat[i,:]))\n",
        "        conf[j,k] = conf[j,k] + 1\n",
        "    for i in range(0,len(classes)):\n",
        "        confnorm[i,:] = conf[i,:] / np.sum(conf[i,:])\n",
        "    plt.figure()\n",
        "    plot_confusion_matrix(confnorm, labels=classes, title=\"ConvNet Confusion Matrix (SNR=%d)\"%(snr))\n",
        "    \n",
        "    cor = np.sum(np.diag(conf))\n",
        "    ncor = np.sum(conf) - cor\n",
        "    print \"Overall Accuracy: \", cor / (cor+ncor)\n",
        "    acc[snr] = 1.0*cor/(cor+ncor)"
      ],
      "metadata": {
        "id": "yy5m526Sl35w"
      },
      "execution_count": null,
      "outputs": []
    },
    {
      "cell_type": "markdown",
      "source": [
        "### **识别准确率**"
      ],
      "metadata": {
        "id": "kfvUe3u2xk9R"
      }
    },
    {
      "cell_type": "code",
      "source": [
        "model.summary()"
      ],
      "metadata": {
        "id": "0rFigeo6nx_E"
      },
      "execution_count": null,
      "outputs": []
    },
    {
      "cell_type": "code",
      "source": [
        "print(model.input[0])"
      ],
      "metadata": {
        "id": "rBTsROCfoqig"
      },
      "execution_count": null,
      "outputs": []
    },
    {
      "cell_type": "code",
      "execution_count": null,
      "metadata": {
        "id": "9bTjDbtPYlE3"
      },
      "outputs": [],
      "source": [
        "#6\n",
        "\n",
        "\n",
        "\n",
        "\n",
        "count_num = 0\n",
        "#for i in range(-20,22,2):\n",
        "type_signal = ('PAM4',18)\n",
        "\n",
        "def pd(pred):\n",
        "    signal_type = [b'8PSK', b'AM-DSB', b'AM-SSB', b'BPSK', b'CPFSK', b'GFSK', b'PAM4', b'QAM16', b'QAM64', b'QPSK', b'WBFM']\n",
        "    md = -1\n",
        "    numb = -1\n",
        "    for i in range(len(pred)):\n",
        "        if pred[i] > md:\n",
        "            md = pred[i]\n",
        "            numb = i\n",
        "    return signal_type[numb],md\n",
        "\n",
        "\n",
        "for i in range(1000):\n",
        "  martiral = Xd[type_signal][i]\n",
        "  martiral = np.expand_dims(martiral, axis = 0)\n",
        "  predictions = model.predict(martiral)[0].tolist()\n",
        "  pred_name , pred_percent = pd(predictions) \n",
        "  print(pred_name, 100*pred_percent , '%' , sep = '')\n",
        "  if pred_name == b'PAM4':\n",
        "    count_num+=1\n",
        "print(count_num/(1000*21)*100,'%',sep='')"
      ]
    },
    {
      "cell_type": "code",
      "execution_count": 45,
      "metadata": {
        "id": "k2i6snfMNeAa",
        "colab": {
          "base_uri": "https://localhost:8080/"
        },
        "outputId": "2b722a45-f12a-411a-c0f3-ec85b89b7367"
      },
      "outputs": [
        {
          "output_type": "stream",
          "name": "stdout",
          "text": [
            "-0.009008788\n",
            "0.009108057\n"
          ]
        }
      ],
      "source": [
        "#7\n",
        "\n",
        "\n",
        "\n",
        "# # Load pre-trained image recognition model\n",
        "model_input_layer = model.layers[0].input\n",
        "model_output_layer = model.layers[-1].output\n",
        "\n",
        "# Choose an ImageNet object to fake 如何确认被欺骗的对象的目标编号\n",
        "object_type_to_fake = 6\n",
        "signal_type = ['8PSK', 'AM-DSB', 'AM-SSB', 'BPSK', 'CPFSK', 'GFSK', 'PAM4', 'QAM16', 'QAM64', 'QPSK', 'WBFM']\n",
        "\n",
        "#需要被诱骗的电磁信号\n",
        "origin_name = ('CPFSK',18)   #('AM-DSB',4)#('PAM4',8)#('QPSK',10)\n",
        "origin_numb = 4\n",
        "signal_faked = Xd[origin_name][3]   #被诱骗信号对象组\n",
        "original_signal = signal_faked      #原始信号对象组\n",
        "\n",
        "signal_be_faked = np.expand_dims(signal_faked, axis = 0)\n",
        "print(signal_be_faked.min())\n",
        "print(signal_be_faked.max())\n",
        "#print(signal_be_faked)\n",
        "div = signal_be_faked.max()-signal_be_faked.min()\n",
        "#归一化\n",
        "#signal_be_faked = (signal_be_faked - signal_be_faked.min()*np.ones([1,2,128]))/(signal_be_faked.max()-signal_be_faked.min())#\n",
        "#print(signal_be_faked)\n",
        "max_change_above = signal_be_faked + div*np.ones([1,2,128])*0.3\n",
        "max_change_below = signal_be_faked - div*np.ones([1,2,128])*0.3\n",
        "\n",
        "\n",
        "hacked_signal = np.copy(signal_be_faked)\n",
        "\n",
        "learning_rate = 0.002\n",
        "\n",
        "cost_function = model_output_layer[0,object_type_to_fake]\n",
        "\n",
        "tf.compat.v1.disable_eager_execution()\n",
        "gradient_function = K.gradients(cost_function, model_input_layer)[0]\n",
        "\n",
        "grab_cost_and_gradients_from_model = K.function([model_input_layer], [cost_function, gradient_function])  #, K.learning_phase()\n",
        "\n",
        "cost = 0.0\n"
      ]
    },
    {
      "cell_type": "code",
      "execution_count": 46,
      "metadata": {
        "id": "M9PsfWwjb9ti",
        "colab": {
          "base_uri": "https://localhost:8080/"
        },
        "outputId": "8b93654c-dd1d-42d6-a5e7-f1a01959fc7a"
      },
      "outputs": [
        {
          "output_type": "stream",
          "name": "stdout",
          "text": [
            "1 误导目标：PAM4: 3.8801346%\n",
            "目标原始信号： CPFSK 被诱骗为： PAM4\n",
            "识别结果： QPSK 19.02165561914444 %\n",
            "原始信号： CPFSK 15.313374996185303 %\n",
            "2 误导目标：PAM4: 6.076346%\n",
            "目标原始信号： CPFSK 被诱骗为： PAM4\n",
            "识别结果： PAM4 28.264176845550537 %\n",
            "原始信号： CPFSK 2.479708753526211 %\n",
            "3 误导目标：PAM4: 28.264177%\n",
            "目标原始信号： CPFSK 被诱骗为： PAM4\n",
            "识别结果： PAM4 70.72105407714844 %\n",
            "原始信号： CPFSK 0.021940840815659612 %\n",
            "4 误导目标：PAM4: 70.721054%\n",
            "目标原始信号： CPFSK 被诱骗为： PAM4\n",
            "识别结果： PAM4 72.92479276657104 %\n",
            "原始信号： CPFSK 0.013168778968974948 %\n",
            "5 误导目标：PAM4: 72.924793%\n",
            "目标原始信号： CPFSK 被诱骗为： PAM4\n",
            "识别结果： PAM4 74.05661344528198 %\n",
            "原始信号： CPFSK 0.009779742686077952 %\n",
            "6 误导目标：PAM4: 74.056613%\n",
            "目标原始信号： CPFSK 被诱骗为： PAM4\n",
            "识别结果： PAM4 74.6233344078064 %\n",
            "原始信号： CPFSK 0.008330123091582209 %\n",
            "7 误导目标：PAM4: 74.623334%\n",
            "目标原始信号： CPFSK 被诱骗为： PAM4\n",
            "识别结果： PAM4 74.91669654846191 %\n",
            "原始信号： CPFSK 0.007565620762761682 %\n",
            "8 误导目标：PAM4: 74.916697%\n",
            "目标原始信号： CPFSK 被诱骗为： PAM4\n",
            "识别结果： PAM4 75.16824007034302 %\n",
            "原始信号： CPFSK 0.006950433453312144 %\n",
            "9 误导目标：PAM4: 75.16824%\n",
            "目标原始信号： CPFSK 被诱骗为： PAM4\n",
            "识别结果： PAM4 75.38219094276428 %\n",
            "原始信号： CPFSK 0.006494409899460152 %\n"
          ]
        }
      ],
      "source": [
        "#8\n",
        "\n",
        "\n",
        "#print('目标原始信号：',signal_type[origin_numb],'被诱骗为：',signal_type[object_type_to_fake])\n",
        "def pd(pred):\n",
        "    signal_type = ['8PSK', 'AM-DSB', 'AM-SSB', 'BPSK', 'CPFSK', 'GFSK', 'PAM4', 'QAM16', 'QAM64', 'QPSK', 'WBFM']\n",
        "    md = -1\n",
        "    numb = -1\n",
        "    for i in range(len(pred)):\n",
        "        if pred[i] > md:\n",
        "            md = pred[i]\n",
        "            numb = i\n",
        "    return signal_type[numb],md\n",
        "\n",
        "#print(hacked_signal)\n",
        "num = 0\n",
        "sumtry = 0\n",
        "righttry = 0\n",
        "while cost < 0.80:\n",
        "    cost, gradients = grab_cost_and_gradients_from_model([hacked_signal,0])    # !!!!!!!!!!!!\n",
        "    #print(cost,gradients)\n",
        "    \n",
        "    hacked_signal += gradients * learning_rate  #list(map(float,gradients))\n",
        "\n",
        "    hacked_signal = np.clip(hacked_signal, max_change_below, max_change_above)  #\n",
        "    #hacked_signal = np.clip(hacked_signal, -2.0, 2.0)               \n",
        "    num += 1\n",
        "    sumtry+=1;\n",
        "    predictions = model.predict(hacked_signal)[0].tolist()\n",
        "    pred_name , pred_percent = pd(predictions) \n",
        "    if(num<10):\n",
        "      print(\"{} 误导目标：{}: {:.8}%\".format(num, signal_type[object_type_to_fake], cost * 100 ))\n",
        "      print('目标原始信号：',signal_type[origin_numb],'被诱骗为：',signal_type[object_type_to_fake])\n",
        "      print('识别结果：' , pred_name, 100*pred_percent , '%' , sep = ' ')\n",
        "      print('原始信号：' , signal_type[origin_numb] , 100*predictions[origin_numb] , '%' , sep = ' ')\n",
        "      #print('原始信号2：' , signal_type[object_type_to_fake] , 100*predictions[object_type_to_fake] , '%' , sep = ' ')\n",
        "    \n",
        "    if(pred_name == signal_type[origin_numb]):\n",
        "      righttry+=1\n",
        "    if num > 10:\n",
        "      break\n",
        "#print(righttry/sumtry)\n",
        "\n",
        "# signal *= top_signal - low_signal\n",
        "# signal += low_signal\n",
        "\n",
        "#print(signal)\n",
        "#[b'8PSK', b'AM-DSB', b'AM-SSB', b'BPSK', b'CPFSK', b'GFSK', b'PAM4', b'QAM16', b'QAM64', b'QPSK', b'WBFM']\n"
      ]
    },
    {
      "cell_type": "markdown",
      "metadata": {
        "id": "rkfoeVozSc4k"
      },
      "source": []
    },
    {
      "cell_type": "code",
      "execution_count": 48,
      "metadata": {
        "id": "RM1QVBw4D5G0"
      },
      "outputs": [],
      "source": [
        "#9\n",
        "\n",
        "\n",
        "\n",
        "\n",
        "signal = hacked_signal[0]\n",
        "#方法一，利用关键字\n",
        "from matplotlib import pyplot as plt\n",
        "from mpl_toolkits.mplot3d import Axes3D\n",
        "\n",
        "#定义坐标轴\n",
        "# fig = plt.figure()\n",
        "# ax1 = plt.axes(projection='3d')\n",
        "#ax = fig.add_subplot(111,projection='3d')  #这种方法也可以画多个子图\n",
        "\n",
        "sig = signal\n",
        "import numpy as np\n",
        "z1 = np.linspace(0,10,128)\n",
        "x1 = original_signal[0]\n",
        "y1 = original_signal[1]\n",
        "\n",
        "z2 = np.linspace(0,10,128)\n",
        "x2 = sig[0]\n",
        "y2 = sig[1]# * 0.005"
      ]
    },
    {
      "cell_type": "code",
      "execution_count": 49,
      "metadata": {
        "id": "XofHeE7CMze0",
        "colab": {
          "base_uri": "https://localhost:8080/",
          "height": 883
        },
        "outputId": "b6f62c69-a443-4907-86be-ea891de91e38"
      },
      "outputs": [
        {
          "output_type": "display_data",
          "data": {
            "text/plain": [
              "<Figure size 640x480 with 1 Axes>"
            ],
            "image/png": "[encoded data removed]"
          },
          "metadata": {}
        },
        {
          "output_type": "display_data",
          "data": {
            "text/plain": [
              "<Figure size 640x480 with 1 Axes>"
            ],
            "image/png": "[encoded data removed]"
          },
          "metadata": {}
        },
        {
          "output_type": "stream",
          "name": "stdout",
          "text": [
            "PAM4 75.71082711219788 %\n",
            "CPFSK 0.005838717697770335 %\n"
          ]
        }
      ],
      "source": [
        "#10\n",
        "\n",
        "\n",
        "\n",
        "plt.plot(z1,x1,'orange')\n",
        "plt.plot(z1,y1,'blue')\n",
        "plt.show()\n",
        "plt.plot(z2,x2,'orange')\n",
        "plt.plot(z2,y2,'blue')\n",
        "plt.show()\n",
        "signal = np.expand_dims(signal,axis=0)\n",
        "predictions = model.predict(signal)[0].tolist()\n",
        "pred_name , pred_percent = pd(predictions) \n",
        "print(pred_name, 100*pred_percent , '%' ,)\n",
        "print(signal_type[origin_numb],100*predictions[origin_numb],'%')"
      ]
    },
    {
      "cell_type": "code",
      "execution_count": 31,
      "metadata": {
        "id": "8ac9ugoJYNkY",
        "colab": {
          "base_uri": "https://localhost:8080/"
        },
        "outputId": "aaaab566-227e-42ed-e180-92e8d6d3e1bc"
      },
      "outputs": [
        {
          "output_type": "stream",
          "name": "stdout",
          "text": [
            "11\n",
            "[0.0026301329489797354, 2.850130540762507e-17, 2.5882741300019925e-15, 0.21121543645858765, 4.462237484403886e-05, 1.2651477088176932e-10, 0.7657026052474976, 0.008047136478126049, 0.010036425665020943, 0.002323607914149761, 5.350568637918539e-15]\n"
          ]
        }
      ],
      "source": [
        "print(np.size(model.predict(hacked_signal)))\n",
        "print(model.predict(hacked_signal)[0].tolist())"
      ]
    },
    {
      "cell_type": "code",
      "execution_count": 24,
      "metadata": {
        "id": "uZReGNarKmke",
        "colab": {
          "base_uri": "https://localhost:8080/",
          "height": 237
        },
        "outputId": "fd7be577-bbc1-42e9-9104-748346746d47"
      },
      "outputs": [
        {
          "output_type": "error",
          "ename": "KeyError",
          "evalue": "ignored",
          "traceback": [
            "\u001b[0;31m---------------------------------------------------------------------------\u001b[0m",
            "\u001b[0;31mKeyError\u001b[0m                                  Traceback (most recent call last)",
            "\u001b[0;32m<ipython-input-24-60383969073c>\u001b[0m in \u001b[0;36m<cell line: 1>\u001b[0;34m()\u001b[0m\n\u001b[0;32m----> 1\u001b[0;31m \u001b[0msignal_faked\u001b[0m \u001b[0;34m=\u001b[0m \u001b[0mXd\u001b[0m\u001b[0;34m[\u001b[0m\u001b[0;34m(\u001b[0m\u001b[0;34mb'QPSK'\u001b[0m\u001b[0;34m,\u001b[0m\u001b[0;36m18\u001b[0m\u001b[0;34m)\u001b[0m\u001b[0;34m]\u001b[0m\u001b[0;34m[\u001b[0m\u001b[0;36m1\u001b[0m\u001b[0;34m]\u001b[0m\u001b[0;34m\u001b[0m\u001b[0;34m\u001b[0m\u001b[0m\n\u001b[0m\u001b[1;32m      2\u001b[0m \u001b[0;31m#归一化\u001b[0m\u001b[0;34m\u001b[0m\u001b[0;34m\u001b[0m\u001b[0m\n\u001b[1;32m      3\u001b[0m \u001b[0mtop_signal\u001b[0m \u001b[0;34m=\u001b[0m \u001b[0mmax\u001b[0m\u001b[0;34m(\u001b[0m\u001b[0mmax\u001b[0m\u001b[0;34m(\u001b[0m\u001b[0msignal_faked\u001b[0m\u001b[0;34m[\u001b[0m\u001b[0;36m0\u001b[0m\u001b[0;34m]\u001b[0m\u001b[0;34m)\u001b[0m\u001b[0;34m,\u001b[0m\u001b[0mmax\u001b[0m\u001b[0;34m(\u001b[0m\u001b[0msignal_faked\u001b[0m\u001b[0;34m[\u001b[0m\u001b[0;36m1\u001b[0m\u001b[0;34m]\u001b[0m\u001b[0;34m)\u001b[0m\u001b[0;34m)\u001b[0m\u001b[0;34m\u001b[0m\u001b[0;34m\u001b[0m\u001b[0m\n\u001b[1;32m      4\u001b[0m \u001b[0mlow_signal\u001b[0m \u001b[0;34m=\u001b[0m \u001b[0mmin\u001b[0m\u001b[0;34m(\u001b[0m\u001b[0mmin\u001b[0m\u001b[0;34m(\u001b[0m\u001b[0msignal_faked\u001b[0m\u001b[0;34m[\u001b[0m\u001b[0;36m0\u001b[0m\u001b[0;34m]\u001b[0m\u001b[0;34m)\u001b[0m\u001b[0;34m,\u001b[0m\u001b[0mmin\u001b[0m\u001b[0;34m(\u001b[0m\u001b[0msignal_faked\u001b[0m\u001b[0;34m[\u001b[0m\u001b[0;36m1\u001b[0m\u001b[0;34m]\u001b[0m\u001b[0;34m)\u001b[0m\u001b[0;34m)\u001b[0m\u001b[0;34m\u001b[0m\u001b[0;34m\u001b[0m\u001b[0m\n\u001b[1;32m      5\u001b[0m \u001b[0msignal_be_faked\u001b[0m \u001b[0;34m=\u001b[0m \u001b[0;34m[\u001b[0m\u001b[0;34m[\u001b[0m\u001b[0;34m]\u001b[0m\u001b[0;34m,\u001b[0m\u001b[0;34m[\u001b[0m\u001b[0;34m]\u001b[0m\u001b[0;34m]\u001b[0m\u001b[0;34m\u001b[0m\u001b[0;34m\u001b[0m\u001b[0m\n",
            "\u001b[0;31mKeyError\u001b[0m: (b'QPSK', 18)"
          ]
        }
      ],
      "source": [
        "signal_faked = Xd[(b'QPSK',18)][1]\n",
        "#归一化\n",
        "top_signal = max(max(signal_faked[0]),max(signal_faked[1]))\n",
        "low_signal = min(min(signal_faked[0]),min(signal_faked[1]))\n",
        "signal_be_faked = [[],[]]\n",
        "for i in range(2):\n",
        "  for j in range(128):\n",
        "    signal_be_faked[i].append(( signal_faked[i][j] - low_signal ) / ( top_signal - low_signal )) #= ( signal_faked[i][j] - low_signal ) / ( top_signal - low_signal )\n",
        "print(signal_be_faked)\n"
      ]
    },
    {
      "cell_type": "markdown",
      "metadata": {
        "id": "K4OJmgbZT3Go"
      },
      "source": []
    },
    {
      "cell_type": "code",
      "execution_count": 25,
      "metadata": {
        "id": "grzSifSXdfen",
        "colab": {
          "base_uri": "https://localhost:8080/"
        },
        "outputId": "fbc01cbc-ae07-4a34-cedb-826f6f118a87"
      },
      "outputs": [
        {
          "output_type": "stream",
          "name": "stdout",
          "text": [
            "Tensor(\"strided_slice_3:0\", shape=(), dtype=float32)\n",
            "Tensor(\"strided_slice_4:0\", shape=(), dtype=float32)\n",
            "Tensor(\"strided_slice_5:0\", shape=(), dtype=float32)\n",
            "Tensor(\"strided_slice_6:0\", shape=(), dtype=float32)\n",
            "Tensor(\"strided_slice_7:0\", shape=(), dtype=float32)\n",
            "Tensor(\"strided_slice_8:0\", shape=(), dtype=float32)\n",
            "Tensor(\"strided_slice_9:0\", shape=(), dtype=float32)\n",
            "Tensor(\"strided_slice_10:0\", shape=(), dtype=float32)\n",
            "Tensor(\"strided_slice_11:0\", shape=(), dtype=float32)\n",
            "Tensor(\"strided_slice_12:0\", shape=(), dtype=float32)\n",
            "Tensor(\"strided_slice_13:0\", shape=(), dtype=float32)\n"
          ]
        }
      ],
      "source": [
        "print(model_output_layer[1,0])\n",
        "print(model_output_layer[0,2])\n",
        "print(model_output_layer[0,2])\n",
        "print(model_output_layer[0,3])\n",
        "print(model_output_layer[0,4])\n",
        "print(model_output_layer[0,5])\n",
        "print(model_output_layer[0,6])\n",
        "print(model_output_layer[0,7])\n",
        "print(model_output_layer[0,8])\n",
        "print(model_output_layer[0,9])\n",
        "print(model_output_layer[0,10])\n"
      ]
    },
    {
      "cell_type": "markdown",
      "metadata": {
        "id": "x3YGS5llNjhZ"
      },
      "source": [
        "# 学姐代码"
      ]
    },
    {
      "cell_type": "code",
      "execution_count": 11,
      "metadata": {
        "id": "0OKkovLWNgdE",
        "colab": {
          "base_uri": "https://localhost:8080/",
          "height": 0
        },
        "outputId": "c50e45c3-9c19-4051-eb76-200097b27264"
      },
      "outputs": [
        {
          "output_type": "error",
          "ename": "TypeError",
          "evalue": "ignored",
          "traceback": [
            "\u001b[0;31m---------------------------------------------------------------------------\u001b[0m",
            "\u001b[0;31mValueError\u001b[0m                                Traceback (most recent call last)",
            "\u001b[0;32m/usr/local/lib/python3.10/dist-packages/tensorflow/python/framework/tensor_util.py\u001b[0m in \u001b[0;36m_AssertCompatible\u001b[0;34m(values, dtype)\u001b[0m\n\u001b[1;32m    389\u001b[0m   \u001b[0;32mtry\u001b[0m\u001b[0;34m:\u001b[0m\u001b[0;34m\u001b[0m\u001b[0;34m\u001b[0m\u001b[0m\n\u001b[0;32m--> 390\u001b[0;31m     \u001b[0mfn\u001b[0m\u001b[0;34m(\u001b[0m\u001b[0mvalues\u001b[0m\u001b[0;34m)\u001b[0m\u001b[0;34m\u001b[0m\u001b[0;34m\u001b[0m\u001b[0m\n\u001b[0m\u001b[1;32m    391\u001b[0m   \u001b[0;32mexcept\u001b[0m \u001b[0mValueError\u001b[0m \u001b[0;32mas\u001b[0m \u001b[0me\u001b[0m\u001b[0;34m:\u001b[0m\u001b[0;34m\u001b[0m\u001b[0;34m\u001b[0m\u001b[0m\n",
            "\u001b[0;32m/usr/local/lib/python3.10/dist-packages/tensorflow/python/framework/tensor_util.py\u001b[0m in \u001b[0;36m_check_not_tensor\u001b[0;34m(values)\u001b[0m\n\u001b[1;32m    341\u001b[0m \u001b[0;32mdef\u001b[0m \u001b[0m_check_not_tensor\u001b[0m\u001b[0;34m(\u001b[0m\u001b[0mvalues\u001b[0m\u001b[0;34m)\u001b[0m\u001b[0;34m:\u001b[0m\u001b[0;34m\u001b[0m\u001b[0;34m\u001b[0m\u001b[0m\n\u001b[0;32m--> 342\u001b[0;31m   _ = [_check_failed(v) for v in nest.flatten(values)\n\u001b[0m\u001b[1;32m    343\u001b[0m        if isinstance(v, ops.Tensor)]\n",
            "\u001b[0;32m/usr/local/lib/python3.10/dist-packages/tensorflow/python/framework/tensor_util.py\u001b[0m in \u001b[0;36m<listcomp>\u001b[0;34m(.0)\u001b[0m\n\u001b[1;32m    341\u001b[0m \u001b[0;32mdef\u001b[0m \u001b[0m_check_not_tensor\u001b[0m\u001b[0;34m(\u001b[0m\u001b[0mvalues\u001b[0m\u001b[0;34m)\u001b[0m\u001b[0;34m:\u001b[0m\u001b[0;34m\u001b[0m\u001b[0;34m\u001b[0m\u001b[0m\n\u001b[0;32m--> 342\u001b[0;31m   _ = [_check_failed(v) for v in nest.flatten(values)\n\u001b[0m\u001b[1;32m    343\u001b[0m        if isinstance(v, ops.Tensor)]\n",
            "\u001b[0;32m/usr/local/lib/python3.10/dist-packages/tensorflow/python/framework/tensor_util.py\u001b[0m in \u001b[0;36m_check_failed\u001b[0;34m(v)\u001b[0m\n\u001b[1;32m    309\u001b[0m   \u001b[0;31m# it is safe to use here.\u001b[0m\u001b[0;34m\u001b[0m\u001b[0;34m\u001b[0m\u001b[0m\n\u001b[0;32m--> 310\u001b[0;31m   \u001b[0;32mraise\u001b[0m \u001b[0mValueError\u001b[0m\u001b[0;34m(\u001b[0m\u001b[0mv\u001b[0m\u001b[0;34m)\u001b[0m\u001b[0;34m\u001b[0m\u001b[0;34m\u001b[0m\u001b[0m\n\u001b[0m\u001b[1;32m    311\u001b[0m \u001b[0;34m\u001b[0m\u001b[0m\n",
            "\u001b[0;31mValueError\u001b[0m: Tensor(\"Const_1:0\", shape=(1, 2, 128), dtype=float32)",
            "\nDuring handling of the above exception, another exception occurred:\n",
            "\u001b[0;31mTypeError\u001b[0m                                 Traceback (most recent call last)",
            "\u001b[0;32m<ipython-input-11-d413a0b94eb5>\u001b[0m in \u001b[0;36m<cell line: 11>\u001b[0;34m()\u001b[0m\n\u001b[1;32m      9\u001b[0m \u001b[0moriginal_image\u001b[0m\u001b[0;34m,\u001b[0m \u001b[0moriginal_label\u001b[0m \u001b[0;34m=\u001b[0m \u001b[0moriginal_input\u001b[0m\u001b[0;34m(\u001b[0m\u001b[0mindex\u001b[0m\u001b[0;34m)\u001b[0m\u001b[0;34m\u001b[0m\u001b[0;34m\u001b[0m\u001b[0m\n\u001b[1;32m     10\u001b[0m \u001b[0moriginal_label\u001b[0m \u001b[0;34m=\u001b[0m \u001b[0mnp\u001b[0m\u001b[0;34m.\u001b[0m\u001b[0mreshape\u001b[0m\u001b[0;34m(\u001b[0m\u001b[0moriginal_label\u001b[0m\u001b[0;34m,\u001b[0m \u001b[0;34m(\u001b[0m\u001b[0;36m1\u001b[0m\u001b[0;34m,\u001b[0m\u001b[0;34m)\u001b[0m\u001b[0;34m)\u001b[0m\u001b[0;34m.\u001b[0m\u001b[0mastype\u001b[0m\u001b[0;34m(\u001b[0m\u001b[0;34m'int64'\u001b[0m\u001b[0;34m)\u001b[0m\u001b[0;34m\u001b[0m\u001b[0;34m\u001b[0m\u001b[0m\n\u001b[0;32m---> 11\u001b[0;31m \u001b[0minput_image\u001b[0m \u001b[0;34m=\u001b[0m \u001b[0mtf\u001b[0m\u001b[0;34m.\u001b[0m\u001b[0mconstant\u001b[0m\u001b[0;34m(\u001b[0m\u001b[0moriginal_image\u001b[0m\u001b[0;34m)\u001b[0m\u001b[0;34m\u001b[0m\u001b[0;34m\u001b[0m\u001b[0m\n\u001b[0m\u001b[1;32m     12\u001b[0m \u001b[0minput_image\u001b[0m \u001b[0;34m=\u001b[0m \u001b[0mtf\u001b[0m\u001b[0;34m.\u001b[0m\u001b[0mconstant\u001b[0m\u001b[0;34m(\u001b[0m\u001b[0moriginal_image\u001b[0m\u001b[0;34m)\u001b[0m\u001b[0;34m\u001b[0m\u001b[0;34m\u001b[0m\u001b[0m\n\u001b[1;32m     13\u001b[0m \u001b[0;34m\u001b[0m\u001b[0m\n",
            "\u001b[0;32m/usr/local/lib/python3.10/dist-packages/tensorflow/python/framework/constant_op.py\u001b[0m in \u001b[0;36mconstant\u001b[0;34m(value, dtype, shape, name)\u001b[0m\n\u001b[1;32m    266\u001b[0m     \u001b[0mValueError\u001b[0m\u001b[0;34m:\u001b[0m \u001b[0;32mif\u001b[0m \u001b[0mcalled\u001b[0m \u001b[0mon\u001b[0m \u001b[0ma\u001b[0m \u001b[0msymbolic\u001b[0m \u001b[0mtensor\u001b[0m\u001b[0;34m.\u001b[0m\u001b[0;34m\u001b[0m\u001b[0;34m\u001b[0m\u001b[0m\n\u001b[1;32m    267\u001b[0m   \"\"\"\n\u001b[0;32m--> 268\u001b[0;31m   return _constant_impl(value, dtype, shape, name, verify_shape=False,\n\u001b[0m\u001b[1;32m    269\u001b[0m                         allow_broadcast=True)\n\u001b[1;32m    270\u001b[0m \u001b[0;34m\u001b[0m\u001b[0m\n",
            "\u001b[0;32m/usr/local/lib/python3.10/dist-packages/tensorflow/python/framework/constant_op.py\u001b[0m in \u001b[0;36m_constant_impl\u001b[0;34m(value, dtype, shape, name, verify_shape, allow_broadcast)\u001b[0m\n\u001b[1;32m    283\u001b[0m   \u001b[0mtensor_value\u001b[0m \u001b[0;34m=\u001b[0m \u001b[0mattr_value_pb2\u001b[0m\u001b[0;34m.\u001b[0m\u001b[0mAttrValue\u001b[0m\u001b[0;34m(\u001b[0m\u001b[0;34m)\u001b[0m\u001b[0;34m\u001b[0m\u001b[0;34m\u001b[0m\u001b[0m\n\u001b[1;32m    284\u001b[0m   tensor_value.tensor.CopyFrom(\n\u001b[0;32m--> 285\u001b[0;31m       tensor_util.make_tensor_proto(\n\u001b[0m\u001b[1;32m    286\u001b[0m           \u001b[0mvalue\u001b[0m\u001b[0;34m,\u001b[0m \u001b[0mdtype\u001b[0m\u001b[0;34m=\u001b[0m\u001b[0mdtype\u001b[0m\u001b[0;34m,\u001b[0m \u001b[0mshape\u001b[0m\u001b[0;34m=\u001b[0m\u001b[0mshape\u001b[0m\u001b[0;34m,\u001b[0m \u001b[0mverify_shape\u001b[0m\u001b[0;34m=\u001b[0m\u001b[0mverify_shape\u001b[0m\u001b[0;34m,\u001b[0m\u001b[0;34m\u001b[0m\u001b[0;34m\u001b[0m\u001b[0m\n\u001b[1;32m    287\u001b[0m           allow_broadcast=allow_broadcast))\n",
            "\u001b[0;32m/usr/local/lib/python3.10/dist-packages/tensorflow/python/framework/tensor_util.py\u001b[0m in \u001b[0;36mmake_tensor_proto\u001b[0;34m(values, dtype, shape, verify_shape, allow_broadcast)\u001b[0m\n\u001b[1;32m    515\u001b[0m       \u001b[0mnparray\u001b[0m \u001b[0;34m=\u001b[0m \u001b[0mnp\u001b[0m\u001b[0;34m.\u001b[0m\u001b[0mempty\u001b[0m\u001b[0;34m(\u001b[0m\u001b[0mshape\u001b[0m\u001b[0;34m,\u001b[0m \u001b[0mdtype\u001b[0m\u001b[0;34m=\u001b[0m\u001b[0mnp_dt\u001b[0m\u001b[0;34m)\u001b[0m\u001b[0;34m\u001b[0m\u001b[0;34m\u001b[0m\u001b[0m\n\u001b[1;32m    516\u001b[0m     \u001b[0;32melse\u001b[0m\u001b[0;34m:\u001b[0m\u001b[0;34m\u001b[0m\u001b[0;34m\u001b[0m\u001b[0m\n\u001b[0;32m--> 517\u001b[0;31m       \u001b[0m_AssertCompatible\u001b[0m\u001b[0;34m(\u001b[0m\u001b[0mvalues\u001b[0m\u001b[0;34m,\u001b[0m \u001b[0mdtype\u001b[0m\u001b[0;34m)\u001b[0m\u001b[0;34m\u001b[0m\u001b[0;34m\u001b[0m\u001b[0m\n\u001b[0m\u001b[1;32m    518\u001b[0m       \u001b[0mnparray\u001b[0m \u001b[0;34m=\u001b[0m \u001b[0mnp\u001b[0m\u001b[0;34m.\u001b[0m\u001b[0marray\u001b[0m\u001b[0;34m(\u001b[0m\u001b[0mvalues\u001b[0m\u001b[0;34m,\u001b[0m \u001b[0mdtype\u001b[0m\u001b[0;34m=\u001b[0m\u001b[0mnp_dt\u001b[0m\u001b[0;34m)\u001b[0m\u001b[0;34m\u001b[0m\u001b[0;34m\u001b[0m\u001b[0m\n\u001b[1;32m    519\u001b[0m       \u001b[0;31m# check to them.\u001b[0m\u001b[0;34m\u001b[0m\u001b[0;34m\u001b[0m\u001b[0m\n",
            "\u001b[0;32m/usr/local/lib/python3.10/dist-packages/tensorflow/python/framework/tensor_util.py\u001b[0m in \u001b[0;36m_AssertCompatible\u001b[0;34m(values, dtype)\u001b[0m\n\u001b[1;32m    392\u001b[0m     \u001b[0;34m[\u001b[0m\u001b[0mmismatch\u001b[0m\u001b[0;34m]\u001b[0m \u001b[0;34m=\u001b[0m \u001b[0me\u001b[0m\u001b[0;34m.\u001b[0m\u001b[0margs\u001b[0m\u001b[0;34m\u001b[0m\u001b[0;34m\u001b[0m\u001b[0m\n\u001b[1;32m    393\u001b[0m     \u001b[0;32mif\u001b[0m \u001b[0mdtype\u001b[0m \u001b[0;32mis\u001b[0m \u001b[0;32mNone\u001b[0m\u001b[0;34m:\u001b[0m\u001b[0;34m\u001b[0m\u001b[0;34m\u001b[0m\u001b[0m\n\u001b[0;32m--> 394\u001b[0;31m       \u001b[0;32mraise\u001b[0m \u001b[0mTypeError\u001b[0m\u001b[0;34m(\u001b[0m\u001b[0;34m\"Expected any non-tensor type, but got a tensor instead.\"\u001b[0m\u001b[0;34m)\u001b[0m\u001b[0;34m\u001b[0m\u001b[0;34m\u001b[0m\u001b[0m\n\u001b[0m\u001b[1;32m    395\u001b[0m     \u001b[0;32melse\u001b[0m\u001b[0;34m:\u001b[0m\u001b[0;34m\u001b[0m\u001b[0;34m\u001b[0m\u001b[0m\n\u001b[1;32m    396\u001b[0m       raise TypeError(f\"Expected {dtype.name}, but got {mismatch} of type \"\n",
            "\u001b[0;31mTypeError\u001b[0m: Expected any non-tensor type, but got a tensor instead."
          ]
        }
      ],
      "source": [
        "\n",
        "def original_input(index):  #调整输入输出的尺度\n",
        "    original_image = xTest[index]\n",
        "    original_image = tf.convert_to_tensor(original_image.reshape(1,2,128))\n",
        "    original_label_y = yTest_ohe[index]\n",
        "    original_label = np.argwhere(original_label_y==1)\n",
        "    original_label_re = np.reshape(original_label, (1,)).astype('int64')\n",
        "    return original_image,original_label\n",
        "\n",
        "original_image, original_label = original_input(index)\n",
        "original_label = np.reshape(original_label, (1,)).astype('int64')\n",
        "input_image = tf.constant(original_image)\n",
        "input_image = tf.constant(original_image)\n",
        "\n",
        "# 计算梯度\n",
        "loss_fn = tf.nn.sparse_softmax_cross_entropy_with_logits  #损失函数\n",
        "with tf.GradientTape() as g:\n",
        "    g.watch(input_image)\n",
        "    loss = loss_fn(labels=original_label, logits=model(input_image))  #model为你搭建的网络\n",
        "gradient = g.gradient(loss, input_image)\n",
        "\n",
        "gradient_sign = np.sign(gradient)\n",
        "adversarial = input_image + eps * gradient_sign\n",
        "\n",
        "\n"
      ]
    },
    {
      "cell_type": "code",
      "execution_count": 10,
      "metadata": {
        "colab": {
          "base_uri": "https://localhost:8080/",
          "height": 0
        },
        "id": "P05_u5dju-Rp",
        "outputId": "f2b0fc7f-8be8-4191-971b-e1e30d258d27"
      },
      "outputs": [
        {
          "output_type": "stream",
          "name": "stderr",
          "text": [
            "/usr/local/lib/python3.10/dist-packages/sklearn/preprocessing/_encoders.py:868: FutureWarning: `sparse` was renamed to `sparse_output` in version 1.2 and will be removed in 1.4. `sparse_output` is ignored unless you leave `sparse` to its default value.\n",
            "  warnings.warn(\n",
            "/usr/local/lib/python3.10/dist-packages/sklearn/preprocessing/_encoders.py:868: FutureWarning: `sparse` was renamed to `sparse_output` in version 1.2 and will be removed in 1.4. `sparse_output` is ignored unless you leave `sparse` to its default value.\n",
            "  warnings.warn(\n"
          ]
        },
        {
          "output_type": "error",
          "ename": "ValueError",
          "evalue": "ignored",
          "traceback": [
            "\u001b[0;31m---------------------------------------------------------------------------\u001b[0m",
            "\u001b[0;31mValueError\u001b[0m                                Traceback (most recent call last)",
            "\u001b[0;32m<ipython-input-10-eec088fdfc4e>\u001b[0m in \u001b[0;36m<cell line: 80>\u001b[0;34m()\u001b[0m\n\u001b[1;32m     78\u001b[0m \u001b[0meps\u001b[0m \u001b[0;34m=\u001b[0m \u001b[0;36m0.6\u001b[0m  \u001b[0;31m#设置扰动因子\u001b[0m\u001b[0;34m\u001b[0m\u001b[0;34m\u001b[0m\u001b[0m\n\u001b[1;32m     79\u001b[0m \u001b[0mindex\u001b[0m \u001b[0;34m=\u001b[0m \u001b[0;36m1\u001b[0m  \u001b[0;31m#随机选择一个输入信号测试\u001b[0m\u001b[0;34m\u001b[0m\u001b[0;34m\u001b[0m\u001b[0m\n\u001b[0;32m---> 80\u001b[0;31m \u001b[0moriginal_image\u001b[0m\u001b[0;34m,\u001b[0m \u001b[0moriginal_label\u001b[0m\u001b[0;34m=\u001b[0m \u001b[0moriginal_input\u001b[0m\u001b[0;34m(\u001b[0m\u001b[0mindex\u001b[0m\u001b[0;34m)\u001b[0m\u001b[0;34m\u001b[0m\u001b[0;34m\u001b[0m\u001b[0m\n\u001b[0m\u001b[1;32m     81\u001b[0m \u001b[0moriginal_label\u001b[0m \u001b[0;34m=\u001b[0m \u001b[0mnp\u001b[0m\u001b[0;34m.\u001b[0m\u001b[0mreshape\u001b[0m\u001b[0;34m(\u001b[0m\u001b[0moriginal_label\u001b[0m\u001b[0;34m,\u001b[0m \u001b[0;34m(\u001b[0m\u001b[0;36m1\u001b[0m\u001b[0;34m,\u001b[0m\u001b[0;34m)\u001b[0m\u001b[0;34m)\u001b[0m\u001b[0;34m.\u001b[0m\u001b[0mastype\u001b[0m\u001b[0;34m(\u001b[0m\u001b[0;34m'int64'\u001b[0m\u001b[0;34m)\u001b[0m\u001b[0;34m\u001b[0m\u001b[0;34m\u001b[0m\u001b[0m\n\u001b[1;32m     82\u001b[0m \u001b[0moriginal\u001b[0m \u001b[0;34m=\u001b[0m \u001b[0mnp\u001b[0m\u001b[0;34m.\u001b[0m\u001b[0msqueeze\u001b[0m\u001b[0;34m(\u001b[0m\u001b[0moriginal_image\u001b[0m\u001b[0;34m)\u001b[0m\u001b[0;34m\u001b[0m\u001b[0;34m\u001b[0m\u001b[0m\n",
            "\u001b[0;32m<ipython-input-10-eec088fdfc4e>\u001b[0m in \u001b[0;36moriginal_input\u001b[0;34m(index)\u001b[0m\n\u001b[1;32m     68\u001b[0m     \u001b[0moriginal_label\u001b[0m \u001b[0;34m=\u001b[0m \u001b[0mnp\u001b[0m\u001b[0;34m.\u001b[0m\u001b[0margwhere\u001b[0m\u001b[0;34m(\u001b[0m\u001b[0moriginal_label_y\u001b[0m\u001b[0;34m==\u001b[0m\u001b[0;36m1\u001b[0m\u001b[0;34m)\u001b[0m\u001b[0;34m\u001b[0m\u001b[0;34m\u001b[0m\u001b[0m\n\u001b[1;32m     69\u001b[0m     \u001b[0moriginal_label_re\u001b[0m \u001b[0;34m=\u001b[0m \u001b[0mnp\u001b[0m\u001b[0;34m.\u001b[0m\u001b[0mreshape\u001b[0m\u001b[0;34m(\u001b[0m\u001b[0moriginal_label\u001b[0m\u001b[0;34m,\u001b[0m \u001b[0;34m(\u001b[0m\u001b[0;36m1\u001b[0m\u001b[0;34m,\u001b[0m\u001b[0;34m)\u001b[0m\u001b[0;34m)\u001b[0m\u001b[0;34m.\u001b[0m\u001b[0mastype\u001b[0m\u001b[0;34m(\u001b[0m\u001b[0;34m'int64'\u001b[0m\u001b[0;34m)\u001b[0m\u001b[0;34m\u001b[0m\u001b[0;34m\u001b[0m\u001b[0m\n\u001b[0;32m---> 70\u001b[0;31m     \u001b[0mexample_targeted_pred\u001b[0m \u001b[0;34m=\u001b[0m \u001b[0mmodel\u001b[0m\u001b[0;34m.\u001b[0m\u001b[0mpredict\u001b[0m\u001b[0;34m(\u001b[0m\u001b[0moriginal_image\u001b[0m\u001b[0;34m)\u001b[0m\u001b[0;34m\u001b[0m\u001b[0;34m\u001b[0m\u001b[0m\n\u001b[0m\u001b[1;32m     71\u001b[0m     \u001b[0mexample\u001b[0m \u001b[0;34m=\u001b[0m \u001b[0mmodel\u001b[0m\u001b[0;34m(\u001b[0m\u001b[0moriginal_image\u001b[0m\u001b[0;34m)\u001b[0m\u001b[0;34m\u001b[0m\u001b[0;34m\u001b[0m\u001b[0m\n\u001b[1;32m     72\u001b[0m     \u001b[0mpredict\u001b[0m \u001b[0;34m=\u001b[0m \u001b[0mnp\u001b[0m\u001b[0;34m.\u001b[0m\u001b[0msqueeze\u001b[0m\u001b[0;34m(\u001b[0m\u001b[0mexample\u001b[0m\u001b[0;34m)\u001b[0m  \u001b[0;31m# np.squeeze 降维\u001b[0m\u001b[0;34m\u001b[0m\u001b[0;34m\u001b[0m\u001b[0m\n",
            "\u001b[0;32m/usr/local/lib/python3.10/dist-packages/keras/utils/traceback_utils.py\u001b[0m in \u001b[0;36merror_handler\u001b[0;34m(*args, **kwargs)\u001b[0m\n\u001b[1;32m     68\u001b[0m             \u001b[0;31m# To get the full stack trace, call:\u001b[0m\u001b[0;34m\u001b[0m\u001b[0;34m\u001b[0m\u001b[0m\n\u001b[1;32m     69\u001b[0m             \u001b[0;31m# `tf.debugging.disable_traceback_filtering()`\u001b[0m\u001b[0;34m\u001b[0m\u001b[0;34m\u001b[0m\u001b[0m\n\u001b[0;32m---> 70\u001b[0;31m             \u001b[0;32mraise\u001b[0m \u001b[0me\u001b[0m\u001b[0;34m.\u001b[0m\u001b[0mwith_traceback\u001b[0m\u001b[0;34m(\u001b[0m\u001b[0mfiltered_tb\u001b[0m\u001b[0;34m)\u001b[0m \u001b[0;32mfrom\u001b[0m \u001b[0;32mNone\u001b[0m\u001b[0;34m\u001b[0m\u001b[0;34m\u001b[0m\u001b[0m\n\u001b[0m\u001b[1;32m     71\u001b[0m         \u001b[0;32mfinally\u001b[0m\u001b[0;34m:\u001b[0m\u001b[0;34m\u001b[0m\u001b[0;34m\u001b[0m\u001b[0m\n\u001b[1;32m     72\u001b[0m             \u001b[0;32mdel\u001b[0m \u001b[0mfiltered_tb\u001b[0m\u001b[0;34m\u001b[0m\u001b[0;34m\u001b[0m\u001b[0m\n",
            "\u001b[0;32m/usr/local/lib/python3.10/dist-packages/keras/utils/version_utils.py\u001b[0m in \u001b[0;36mdisallow_legacy_graph\u001b[0;34m(cls_name, method_name)\u001b[0m\n\u001b[1;32m    124\u001b[0m             \u001b[0;34m\"eager mode enabled.\"\u001b[0m\u001b[0;34m\u001b[0m\u001b[0;34m\u001b[0m\u001b[0m\n\u001b[1;32m    125\u001b[0m         )\n\u001b[0;32m--> 126\u001b[0;31m         \u001b[0;32mraise\u001b[0m \u001b[0mValueError\u001b[0m\u001b[0;34m(\u001b[0m\u001b[0merror_msg\u001b[0m\u001b[0;34m)\u001b[0m\u001b[0;34m\u001b[0m\u001b[0;34m\u001b[0m\u001b[0m\n\u001b[0m\u001b[1;32m    127\u001b[0m \u001b[0;34m\u001b[0m\u001b[0m\n\u001b[1;32m    128\u001b[0m \u001b[0;34m\u001b[0m\u001b[0m\n",
            "\u001b[0;31mValueError\u001b[0m: Calling `Model.predict` in graph mode is not supported when the `Model` instance was constructed with eager mode enabled. Please construct your `Model` instance in graph mode or call `Model.predict` with eager mode enabled."
          ]
        }
      ],
      "source": [
        "import tensorflow as tf\n",
        "import numpy as np\n",
        "import pickle, keras\n",
        "import os,random\n",
        "import scipy.io\n",
        "f = open(r'/content/drive/MyDrive/Colab Notebooks/RML2016.10a_dict.pkl', 'rb')\n",
        "dataDict = pickle.load(f,encoding='bytes')\n",
        "\n",
        "data = []\n",
        "labels = []\n",
        "for d in dataDict:\n",
        "   signals=dataDict[d]\n",
        "   for s in signals:\n",
        "     data.append(np.array(s))\n",
        "     labels.append(d)\n",
        "data = np.array(data)\n",
        "labels = np.array(labels)\n",
        "\n",
        "length = len(data)\n",
        "\n",
        "# 手动划分\n",
        "indices = random.sample(range(0,length),length)\n",
        "xTrain = []\n",
        "yTrain = []\n",
        "iTrain = []\n",
        "for i in range(0,(length-1)//2):\n",
        "  xTrain.append(data[indices[i]])\n",
        "  yTrain.append(labels[indices[i]])\n",
        "  iTrain.append(indices[i])\n",
        "xTrain = np.array(xTrain)\n",
        "yTrain = np.array(yTrain)\n",
        "iTrain = np.array(iTrain)\n",
        "\n",
        "xTest = []\n",
        "yTest = []\n",
        "iTest = []\n",
        "for i in range((length-1)//2, length):\n",
        "  xTest.append(data[indices[i]])\n",
        "  yTest.append(labels[indices[i]])\n",
        "  iTest.append(indices[i])\n",
        "xTest = np.array(xTest)\n",
        "yTest = np.array(yTest)\n",
        "iTest = np.array(iTest)\n",
        "\n",
        "\n",
        "from sklearn.preprocessing import OneHotEncoder, LabelEncoder\n",
        "\n",
        "le = LabelEncoder()\n",
        "yTrain_le = le.fit_transform(yTrain[0])\n",
        "yTest_le = le.fit_transform(yTest[0])\n",
        "yTrain_le = yTrain_le.reshape(len(yTrain_le), 1)\n",
        "yTest_le = yTest_le.reshape(len(yTest_le), 1)\n",
        "enc = OneHotEncoder(categories = 'auto',sparse = False )\n",
        "yTrain_ohe = enc.fit_transform(yTrain_le)\n",
        "yTest_ohe = enc.fit_transform(yTest_le)\n",
        "\n",
        "\n",
        "# from tensorflow.keras.models import load_model\n",
        "# filepath = r'D:\\Project\\Adversarial attack\\Model\\model3.h5'  #加载已经训练好的模型\n",
        "# model = load_model(filepath)\n",
        "\n",
        "\n",
        "#输入信号格式转换\n",
        "def original_input(index):\n",
        "    original_image = xTest[index]\n",
        "    original_image = tf.convert_to_tensor(original_image.reshape(1,2,128))\n",
        "    original_label_y = yTest_ohe[index]\n",
        "    original_label = np.argwhere(original_label_y==1)\n",
        "    original_label_re = np.reshape(original_label, (1,)).astype('int64')\n",
        "    example_targeted_pred = model.predict(original_image)\n",
        "    example = model(original_image)\n",
        "    predict = np.squeeze(example)  # np.squeeze 降维\n",
        "\n",
        "    print('original_label=',original_label,'\\n','original_pred=',example_targeted_pred,np.max(example_targeted_pred))\n",
        "    return original_image,original_label,\n",
        "\n",
        "\n",
        "eps = 0.6  #设置扰动因子\n",
        "index = 1  #随机选择一个输入信号测试\n",
        "original_image, original_label= original_input(index)\n",
        "original_label = np.reshape(original_label, (1,)).astype('int64')\n",
        "original = np.squeeze(original_image)\n",
        "input_image = tf.constant(original_image)\n",
        "print(model(input_image).shape)\n",
        "input_image = tf.constant(original_image)\n",
        "loss_fn = tf.nn.sparse_softmax_cross_entropy_with_logits\n",
        "with tf.GradientTape() as g:\n",
        "    g.watch(input_image)\n",
        "    predictions = model(input_image)\n",
        "    loss = loss_fn(labels=original_label, logits=model(input_image))\n",
        "predict = np.squeeze(predictions)  # np.squeeze 降维\n",
        "top_k = predict.argsort()[-3:][::-1]\n",
        "predictions_id6 = top_k[0]\n",
        "print(\" loss={} label={}\".format(loss, predictions_id6))\n",
        "gradient = g.gradient(loss, input_image)\n",
        "\n",
        "gradient_sign = np.sign(gradient)\n",
        "adversarial = input_image + eps * gradient_sign\n",
        "adv = np.squeeze(adversarial)\n",
        "predictions2 = model(adversarial)\n",
        "predict2 = np.squeeze(predictions2)  # np.squeeze 降维\n",
        "top_k2 = predict2.argsort()[-3:][::-1]\n",
        "predictions_id7 = top_k2[0]\n",
        "print('adversarial_pred=', model.predict(adversarial), 'adv_label=', predictions_id7)\n",
        "\n"
      ]
    },
    {
      "cell_type": "markdown",
      "metadata": {
        "id": "tQ40zFYhNhKs"
      },
      "source": []
    }
  ],
  "metadata": {
    "colab": {
      "provenance": [],
      "collapsed_sections": [
        "x3YGS5llNjhZ"
      ],
      "mount_file_id": "1_Pb74XYzzFjlsImw4WKK69huVBpeso2o",
      "authorship_tag": "ABX9TyMevHzHW1Iazm5GznNPzEZY",
      "include_colab_link": true
    },
    "kernelspec": {
      "display_name": "Python 3",
      "name": "python3"
    },
    "language_info": {
      "name": "python"
    }
  },
  "nbformat": 4,
  "nbformat_minor": 0
}